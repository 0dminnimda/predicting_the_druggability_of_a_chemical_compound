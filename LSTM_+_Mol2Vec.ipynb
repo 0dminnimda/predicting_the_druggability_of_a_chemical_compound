{
  "cells": [
    {
      "cell_type": "code",
      "execution_count": 5,
      "metadata": {
        "id": "bTrnNUuFiQOx"
      },
      "outputs": [],
      "source": [
        "from rdkit import Chem, DataStructs\n",
        "from rdkit.Chem import PandasTools, AllChem\n",
        "from sklearn.preprocessing import StandardScaler\n",
        "from sklearn.model_selection import train_test_split\n",
        "import torch\n",
        "import torch.nn as nn\n",
        "from torch.utils.data import Dataset\n",
        "from torch.optim.lr_scheduler import ReduceLROnPlateau\n",
        "import pandas as pd"
      ]
    },
    {
      "cell_type": "code",
      "execution_count": 6,
      "metadata": {
        "id": "M8y8xyRQPc5z"
      },
      "outputs": [],
      "source": [
        "df = pd.read_excel('1400.xlsx')"
      ]
    },
    {
      "cell_type": "code",
      "execution_count": 7,
      "metadata": {},
      "outputs": [
        {
          "data": {
            "text/plain": [
              "count                                                  1468\n",
              "unique                                                 1380\n",
              "top       C[N+](C)(C)CC(=O)O[C@H]1C[C@H](CC2)C(C)(C)[C@@...\n",
              "freq                                                      4\n",
              "Name: SMILES, dtype: object"
            ]
          },
          "execution_count": 7,
          "metadata": {},
          "output_type": "execute_result"
        }
      ],
      "source": [
        "df['SMILES'].describe()"
      ]
    },
    {
      "cell_type": "code",
      "execution_count": 8,
      "metadata": {
        "id": "QF220Px0TrhP"
      },
      "outputs": [],
      "source": [
        "df['SI'] = df['CC50-MDCK, mmg/ml']/df['IC50, mmg/ml']\n",
        "df['S_leng'] = df['SMILES'].str.len ()"
      ]
    },
    {
      "cell_type": "code",
      "execution_count": 9,
      "metadata": {
        "colab": {
          "base_uri": "https://localhost:8080/",
          "height": 310
        },
        "id": "RqW7QJUKPowQ",
        "outputId": "e3889a2a-bb7b-42e0-f2be-463b11ecac79"
      },
      "outputs": [
        {
          "data": {
            "text/html": [
              "<div>\n",
              "<style scoped>\n",
              "    .dataframe tbody tr th:only-of-type {\n",
              "        vertical-align: middle;\n",
              "    }\n",
              "\n",
              "    .dataframe tbody tr th {\n",
              "        vertical-align: top;\n",
              "    }\n",
              "\n",
              "    .dataframe thead th {\n",
              "        text-align: right;\n",
              "    }\n",
              "</style>\n",
              "<table border=\"1\" class=\"dataframe\">\n",
              "  <thead>\n",
              "    <tr style=\"text-align: right;\">\n",
              "      <th></th>\n",
              "      <th>Title</th>\n",
              "      <th>IC50, mmg/ml</th>\n",
              "      <th>CC50-MDCK, mmg/ml</th>\n",
              "      <th>SI</th>\n",
              "      <th>Molecular weight</th>\n",
              "      <th>Hydrogen bond acceptors</th>\n",
              "      <th>Hydrogen bond donors</th>\n",
              "      <th>Polar SA</th>\n",
              "      <th>SMILES</th>\n",
              "      <th>Pictures</th>\n",
              "      <th>S_leng</th>\n",
              "    </tr>\n",
              "  </thead>\n",
              "  <tbody>\n",
              "    <tr>\n",
              "      <th>0</th>\n",
              "      <td>1007-Ya-213</td>\n",
              "      <td>2.7</td>\n",
              "      <td>500.0</td>\n",
              "      <td>185.185185</td>\n",
              "      <td>195.307</td>\n",
              "      <td>2</td>\n",
              "      <td>1</td>\n",
              "      <td>32.59</td>\n",
              "      <td>OCC\\N=C(\\[C@]12C)C[C@@H](C1(C)C)CC2</td>\n",
              "      <td>50.0</td>\n",
              "      <td>35</td>\n",
              "    </tr>\n",
              "    <tr>\n",
              "      <th>1</th>\n",
              "      <td>1007-Ya-213</td>\n",
              "      <td>0.7</td>\n",
              "      <td>447.0</td>\n",
              "      <td>638.571429</td>\n",
              "      <td>195.307</td>\n",
              "      <td>2</td>\n",
              "      <td>1</td>\n",
              "      <td>32.59</td>\n",
              "      <td>OCC\\N=C(\\[C@]12C)C[C@@H](C1(C)C)CC2</td>\n",
              "      <td>51.0</td>\n",
              "      <td>35</td>\n",
              "    </tr>\n",
              "    <tr>\n",
              "      <th>2</th>\n",
              "      <td>1008-Ya-187</td>\n",
              "      <td>9.9</td>\n",
              "      <td>144.0</td>\n",
              "      <td>14.545455</td>\n",
              "      <td>250.431</td>\n",
              "      <td>1</td>\n",
              "      <td>0</td>\n",
              "      <td>15.60</td>\n",
              "      <td>CCN(CC)CC\\N=C(\\[C@@]12C)C[C@H](C1(C)C)CC2</td>\n",
              "      <td>52.0</td>\n",
              "      <td>41</td>\n",
              "    </tr>\n",
              "    <tr>\n",
              "      <th>3</th>\n",
              "      <td>1009-As-106</td>\n",
              "      <td>8.3</td>\n",
              "      <td>500.0</td>\n",
              "      <td>60.240964</td>\n",
              "      <td>222.377</td>\n",
              "      <td>1</td>\n",
              "      <td>0</td>\n",
              "      <td>15.60</td>\n",
              "      <td>CN(C)CC\\N=C(\\[C@@]12C)C[C@H](C1(C)C)CC2</td>\n",
              "      <td>53.0</td>\n",
              "      <td>39</td>\n",
              "    </tr>\n",
              "    <tr>\n",
              "      <th>4</th>\n",
              "      <td>1010-Ya-208</td>\n",
              "      <td>39.4</td>\n",
              "      <td>143.0</td>\n",
              "      <td>3.629442</td>\n",
              "      <td>239.361</td>\n",
              "      <td>2</td>\n",
              "      <td>0</td>\n",
              "      <td>29.54</td>\n",
              "      <td>CN(C)CC(=O)O[C@H]1C[C@H](CC2)C(C)(C)[C@@]12C</td>\n",
              "      <td>54.0</td>\n",
              "      <td>44</td>\n",
              "    </tr>\n",
              "  </tbody>\n",
              "</table>\n",
              "</div>"
            ],
            "text/plain": [
              "         Title  IC50, mmg/ml  CC50-MDCK, mmg/ml          SI  Molecular weight  \\\n",
              "0  1007-Ya-213           2.7              500.0  185.185185           195.307   \n",
              "1  1007-Ya-213           0.7              447.0  638.571429           195.307   \n",
              "2  1008-Ya-187           9.9              144.0   14.545455           250.431   \n",
              "3  1009-As-106           8.3              500.0   60.240964           222.377   \n",
              "4  1010-Ya-208          39.4              143.0    3.629442           239.361   \n",
              "\n",
              "   Hydrogen bond acceptors  Hydrogen bond donors  Polar SA  \\\n",
              "0                        2                     1     32.59   \n",
              "1                        2                     1     32.59   \n",
              "2                        1                     0     15.60   \n",
              "3                        1                     0     15.60   \n",
              "4                        2                     0     29.54   \n",
              "\n",
              "                                         SMILES  Pictures  S_leng  \n",
              "0           OCC\\N=C(\\[C@]12C)C[C@@H](C1(C)C)CC2      50.0      35  \n",
              "1           OCC\\N=C(\\[C@]12C)C[C@@H](C1(C)C)CC2      51.0      35  \n",
              "2     CCN(CC)CC\\N=C(\\[C@@]12C)C[C@H](C1(C)C)CC2      52.0      41  \n",
              "3       CN(C)CC\\N=C(\\[C@@]12C)C[C@H](C1(C)C)CC2      53.0      39  \n",
              "4  CN(C)CC(=O)O[C@H]1C[C@H](CC2)C(C)(C)[C@@]12C      54.0      44  "
            ]
          },
          "execution_count": 9,
          "metadata": {},
          "output_type": "execute_result"
        }
      ],
      "source": [
        "df.head()"
      ]
    },
    {
      "cell_type": "code",
      "execution_count": 10,
      "metadata": {
        "colab": {
          "base_uri": "https://localhost:8080/",
          "height": 300
        },
        "id": "QM5LBnL8dtLu",
        "outputId": "fb035e72-7845-4986-bb3b-645436fef8ff"
      },
      "outputs": [
        {
          "data": {
            "text/html": [
              "<div>\n",
              "<style scoped>\n",
              "    .dataframe tbody tr th:only-of-type {\n",
              "        vertical-align: middle;\n",
              "    }\n",
              "\n",
              "    .dataframe tbody tr th {\n",
              "        vertical-align: top;\n",
              "    }\n",
              "\n",
              "    .dataframe thead th {\n",
              "        text-align: right;\n",
              "    }\n",
              "</style>\n",
              "<table border=\"1\" class=\"dataframe\">\n",
              "  <thead>\n",
              "    <tr style=\"text-align: right;\">\n",
              "      <th></th>\n",
              "      <th>IC50, mmg/ml</th>\n",
              "      <th>CC50-MDCK, mmg/ml</th>\n",
              "      <th>SI</th>\n",
              "      <th>Molecular weight</th>\n",
              "      <th>Hydrogen bond acceptors</th>\n",
              "      <th>Hydrogen bond donors</th>\n",
              "      <th>Polar SA</th>\n",
              "      <th>Pictures</th>\n",
              "      <th>S_leng</th>\n",
              "    </tr>\n",
              "  </thead>\n",
              "  <tbody>\n",
              "    <tr>\n",
              "      <th>count</th>\n",
              "      <td>1468.000000</td>\n",
              "      <td>1468.000000</td>\n",
              "      <td>1.468000e+03</td>\n",
              "      <td>1468.000000</td>\n",
              "      <td>1468.000000</td>\n",
              "      <td>1468.000000</td>\n",
              "      <td>1468.000000</td>\n",
              "      <td>727.000000</td>\n",
              "      <td>1468.000000</td>\n",
              "    </tr>\n",
              "    <tr>\n",
              "      <th>mean</th>\n",
              "      <td>50.277063</td>\n",
              "      <td>186.491530</td>\n",
              "      <td>2.210854e+04</td>\n",
              "      <td>384.739636</td>\n",
              "      <td>3.831744</td>\n",
              "      <td>1.333787</td>\n",
              "      <td>81.273215</td>\n",
              "      <td>364.909216</td>\n",
              "      <td>62.997956</td>\n",
              "    </tr>\n",
              "    <tr>\n",
              "      <th>std</th>\n",
              "      <td>92.184768</td>\n",
              "      <td>1009.454293</td>\n",
              "      <td>4.771268e+05</td>\n",
              "      <td>153.164268</td>\n",
              "      <td>2.860473</td>\n",
              "      <td>1.803663</td>\n",
              "      <td>54.078778</td>\n",
              "      <td>210.154325</td>\n",
              "      <td>32.373175</td>\n",
              "    </tr>\n",
              "    <tr>\n",
              "      <th>min</th>\n",
              "      <td>0.000010</td>\n",
              "      <td>0.031928</td>\n",
              "      <td>3.616134e-02</td>\n",
              "      <td>110.157000</td>\n",
              "      <td>0.000000</td>\n",
              "      <td>0.000000</td>\n",
              "      <td>0.000000</td>\n",
              "      <td>1.000000</td>\n",
              "      <td>13.000000</td>\n",
              "    </tr>\n",
              "    <tr>\n",
              "      <th>25%</th>\n",
              "      <td>2.500000</td>\n",
              "      <td>30.375000</td>\n",
              "      <td>1.833333e+00</td>\n",
              "      <td>283.049250</td>\n",
              "      <td>2.000000</td>\n",
              "      <td>0.000000</td>\n",
              "      <td>39.440000</td>\n",
              "      <td>183.500000</td>\n",
              "      <td>46.000000</td>\n",
              "    </tr>\n",
              "    <tr>\n",
              "      <th>50%</th>\n",
              "      <td>10.100000</td>\n",
              "      <td>90.400000</td>\n",
              "      <td>5.528073e+00</td>\n",
              "      <td>349.371000</td>\n",
              "      <td>3.000000</td>\n",
              "      <td>1.000000</td>\n",
              "      <td>71.840000</td>\n",
              "      <td>365.000000</td>\n",
              "      <td>55.000000</td>\n",
              "    </tr>\n",
              "    <tr>\n",
              "      <th>75%</th>\n",
              "      <td>49.450000</td>\n",
              "      <td>300.000000</td>\n",
              "      <td>2.778741e+01</td>\n",
              "      <td>446.508000</td>\n",
              "      <td>5.000000</td>\n",
              "      <td>2.000000</td>\n",
              "      <td>106.160000</td>\n",
              "      <td>546.500000</td>\n",
              "      <td>68.000000</td>\n",
              "    </tr>\n",
              "    <tr>\n",
              "      <th>max</th>\n",
              "      <td>1000.000000</td>\n",
              "      <td>37646.000000</td>\n",
              "      <td>1.632222e+07</td>\n",
              "      <td>1159.380000</td>\n",
              "      <td>19.000000</td>\n",
              "      <td>11.000000</td>\n",
              "      <td>319.510000</td>\n",
              "      <td>728.000000</td>\n",
              "      <td>279.000000</td>\n",
              "    </tr>\n",
              "  </tbody>\n",
              "</table>\n",
              "</div>"
            ],
            "text/plain": [
              "       IC50, mmg/ml  CC50-MDCK, mmg/ml            SI  Molecular weight  \\\n",
              "count   1468.000000        1468.000000  1.468000e+03       1468.000000   \n",
              "mean      50.277063         186.491530  2.210854e+04        384.739636   \n",
              "std       92.184768        1009.454293  4.771268e+05        153.164268   \n",
              "min        0.000010           0.031928  3.616134e-02        110.157000   \n",
              "25%        2.500000          30.375000  1.833333e+00        283.049250   \n",
              "50%       10.100000          90.400000  5.528073e+00        349.371000   \n",
              "75%       49.450000         300.000000  2.778741e+01        446.508000   \n",
              "max     1000.000000       37646.000000  1.632222e+07       1159.380000   \n",
              "\n",
              "       Hydrogen bond acceptors  Hydrogen bond donors     Polar SA    Pictures  \\\n",
              "count              1468.000000           1468.000000  1468.000000  727.000000   \n",
              "mean                  3.831744              1.333787    81.273215  364.909216   \n",
              "std                   2.860473              1.803663    54.078778  210.154325   \n",
              "min                   0.000000              0.000000     0.000000    1.000000   \n",
              "25%                   2.000000              0.000000    39.440000  183.500000   \n",
              "50%                   3.000000              1.000000    71.840000  365.000000   \n",
              "75%                   5.000000              2.000000   106.160000  546.500000   \n",
              "max                  19.000000             11.000000   319.510000  728.000000   \n",
              "\n",
              "            S_leng  \n",
              "count  1468.000000  \n",
              "mean     62.997956  \n",
              "std      32.373175  \n",
              "min      13.000000  \n",
              "25%      46.000000  \n",
              "50%      55.000000  \n",
              "75%      68.000000  \n",
              "max     279.000000  "
            ]
          },
          "execution_count": 10,
          "metadata": {},
          "output_type": "execute_result"
        }
      ],
      "source": [
        "df.describe()"
      ]
    },
    {
      "cell_type": "code",
      "execution_count": 11,
      "metadata": {
        "colab": {
          "base_uri": "https://localhost:8080/"
        },
        "id": "2sJv_e4kqPzu",
        "outputId": "d009d3a0-dfc3-433e-9421-090511c86434"
      },
      "outputs": [
        {
          "data": {
            "text/plain": [
              "1468"
            ]
          },
          "execution_count": 11,
          "metadata": {},
          "output_type": "execute_result"
        }
      ],
      "source": [
        "df['Title'].size"
      ]
    },
    {
      "cell_type": "code",
      "execution_count": 12,
      "metadata": {
        "id": "Nt0xTaLf7qHA"
      },
      "outputs": [],
      "source": [
        "df = df[df.SI <= 100]"
      ]
    },
    {
      "cell_type": "code",
      "execution_count": 13,
      "metadata": {
        "id": "n4EIncbYJ83K"
      },
      "outputs": [],
      "source": [
        "df = df[df['IC50, mmg/ml'] < 250]\n",
        "df = df[df['CC50-MDCK, mmg/ml'] < 250]\n",
        "df = df[df.S_leng < 120]\n",
        "df = df[df.SI <= 100]"
      ]
    },
    {
      "cell_type": "code",
      "execution_count": 14,
      "metadata": {
        "id": "BeeoTdV3F6I-"
      },
      "outputs": [],
      "source": [
        "df = df[df.S_leng < 140]\n",
        "df = df[df['IC50, mmg/ml'] < 310]"
      ]
    },
    {
      "cell_type": "code",
      "execution_count": 15,
      "metadata": {
        "colab": {
          "base_uri": "https://localhost:8080/"
        },
        "id": "r6LfxpMORXuO",
        "outputId": "d2624bf8-0790-4d4b-b24e-b2cdf3e517ef"
      },
      "outputs": [
        {
          "data": {
            "text/plain": [
              "Index(['Title', 'IC50, mmg/ml', 'CC50-MDCK, mmg/ml', 'SI', 'Molecular weight',\n",
              "       'Hydrogen bond acceptors', 'Hydrogen bond donors', 'Polar SA', 'SMILES',\n",
              "       'Pictures', 'S_leng'],\n",
              "      dtype='object')"
            ]
          },
          "execution_count": 15,
          "metadata": {},
          "output_type": "execute_result"
        }
      ],
      "source": [
        "df.columns"
      ]
    },
    {
      "cell_type": "code",
      "execution_count": 16,
      "metadata": {
        "id": "AF0sB9jvh6nV"
      },
      "outputs": [],
      "source": [
        "df_w = df[[ 'IC50, mmg/ml', 'SMILES']]"
      ]
    },
    {
      "cell_type": "code",
      "execution_count": 17,
      "metadata": {
        "colab": {
          "base_uri": "https://localhost:8080/",
          "height": 300
        },
        "id": "tDvfbObz0TVz",
        "outputId": "148e5b0c-7c56-4770-c0f6-0e71ed2e101b"
      },
      "outputs": [
        {
          "data": {
            "text/html": [
              "<div>\n",
              "<style scoped>\n",
              "    .dataframe tbody tr th:only-of-type {\n",
              "        vertical-align: middle;\n",
              "    }\n",
              "\n",
              "    .dataframe tbody tr th {\n",
              "        vertical-align: top;\n",
              "    }\n",
              "\n",
              "    .dataframe thead th {\n",
              "        text-align: right;\n",
              "    }\n",
              "</style>\n",
              "<table border=\"1\" class=\"dataframe\">\n",
              "  <thead>\n",
              "    <tr style=\"text-align: right;\">\n",
              "      <th></th>\n",
              "      <th>IC50, mmg/ml</th>\n",
              "    </tr>\n",
              "  </thead>\n",
              "  <tbody>\n",
              "    <tr>\n",
              "      <th>count</th>\n",
              "      <td>826.000000</td>\n",
              "    </tr>\n",
              "    <tr>\n",
              "      <th>mean</th>\n",
              "      <td>21.085836</td>\n",
              "    </tr>\n",
              "    <tr>\n",
              "      <th>std</th>\n",
              "      <td>29.285577</td>\n",
              "    </tr>\n",
              "    <tr>\n",
              "      <th>min</th>\n",
              "      <td>0.004219</td>\n",
              "    </tr>\n",
              "    <tr>\n",
              "      <th>25%</th>\n",
              "      <td>2.700000</td>\n",
              "    </tr>\n",
              "    <tr>\n",
              "      <th>50%</th>\n",
              "      <td>8.200000</td>\n",
              "    </tr>\n",
              "    <tr>\n",
              "      <th>75%</th>\n",
              "      <td>30.000000</td>\n",
              "    </tr>\n",
              "    <tr>\n",
              "      <th>max</th>\n",
              "      <td>200.000000</td>\n",
              "    </tr>\n",
              "  </tbody>\n",
              "</table>\n",
              "</div>"
            ],
            "text/plain": [
              "       IC50, mmg/ml\n",
              "count    826.000000\n",
              "mean      21.085836\n",
              "std       29.285577\n",
              "min        0.004219\n",
              "25%        2.700000\n",
              "50%        8.200000\n",
              "75%       30.000000\n",
              "max      200.000000"
            ]
          },
          "execution_count": 17,
          "metadata": {},
          "output_type": "execute_result"
        }
      ],
      "source": [
        "df_w.describe()"
      ]
    },
    {
      "cell_type": "markdown",
      "metadata": {
        "id": "srEUndjG1eQK"
      },
      "source": [
        "## Анализ данных"
      ]
    },
    {
      "cell_type": "code",
      "execution_count": 19,
      "metadata": {
        "colab": {
          "base_uri": "https://localhost:8080/",
          "height": 467
        },
        "id": "bYclv948YlQA",
        "outputId": "9f14c81a-8996-4651-bfe9-c5c678cd480c"
      },
      "outputs": [
        {
          "data": {
            "text/plain": [
              "<Axes: xlabel='S_leng', ylabel='Count'>"
            ]
          },
          "execution_count": 19,
          "metadata": {},
          "output_type": "execute_result"
        },
        {
          "data": {
            "image/png": "[encoded data removed]",
            "text/plain": [
              "<Figure size 640x480 with 1 Axes>"
            ]
          },
          "metadata": {},
          "output_type": "display_data"
        }
      ],
      "source": [
        "import seaborn as sns\n",
        "sns.histplot(df['S_leng'])"
      ]
    },
    {
      "cell_type": "code",
      "execution_count": 20,
      "metadata": {
        "colab": {
          "base_uri": "https://localhost:8080/",
          "height": 466
        },
        "id": "aqGbDCJvZQpR",
        "outputId": "cef16775-03a5-4fa3-ab3c-3c7e96761b68"
      },
      "outputs": [
        {
          "data": {
            "text/plain": [
              "<Axes: xlabel='IC50, mmg/ml', ylabel='Count'>"
            ]
          },
          "execution_count": 20,
          "metadata": {},
          "output_type": "execute_result"
        },
        {
          "data": {
            "image/png": "[encoded data removed]",
            "text/plain": [
              "<Figure size 640x480 with 1 Axes>"
            ]
          },
          "metadata": {},
          "output_type": "display_data"
        }
      ],
      "source": [
        "sns.histplot(df['IC50, mmg/ml'])"
      ]
    },
    {
      "cell_type": "code",
      "execution_count": 21,
      "metadata": {
        "id": "aK1sSF3DZXYv"
      },
      "outputs": [
        {
          "data": {
            "text/html": [
              "<div>\n",
              "<style scoped>\n",
              "    .dataframe tbody tr th:only-of-type {\n",
              "        vertical-align: middle;\n",
              "    }\n",
              "\n",
              "    .dataframe tbody tr th {\n",
              "        vertical-align: top;\n",
              "    }\n",
              "\n",
              "    .dataframe thead th {\n",
              "        text-align: right;\n",
              "    }\n",
              "</style>\n",
              "<table border=\"1\" class=\"dataframe\">\n",
              "  <thead>\n",
              "    <tr style=\"text-align: right;\">\n",
              "      <th></th>\n",
              "      <th>Title</th>\n",
              "      <th>IC50, mmg/ml</th>\n",
              "      <th>CC50-MDCK, mmg/ml</th>\n",
              "      <th>SI</th>\n",
              "      <th>Molecular weight</th>\n",
              "      <th>Hydrogen bond acceptors</th>\n",
              "      <th>Hydrogen bond donors</th>\n",
              "      <th>Polar SA</th>\n",
              "      <th>SMILES</th>\n",
              "      <th>Pictures</th>\n",
              "      <th>S_leng</th>\n",
              "    </tr>\n",
              "  </thead>\n",
              "  <tbody>\n",
              "    <tr>\n",
              "      <th>2</th>\n",
              "      <td>1008-Ya-187</td>\n",
              "      <td>9.9</td>\n",
              "      <td>144.0</td>\n",
              "      <td>14.545455</td>\n",
              "      <td>250.431</td>\n",
              "      <td>1</td>\n",
              "      <td>0</td>\n",
              "      <td>15.60</td>\n",
              "      <td>CCN(CC)CC\\N=C(\\[C@@]12C)C[C@H](C1(C)C)CC2</td>\n",
              "      <td>52.0</td>\n",
              "      <td>41</td>\n",
              "    </tr>\n",
              "    <tr>\n",
              "      <th>4</th>\n",
              "      <td>1010-Ya-208</td>\n",
              "      <td>39.4</td>\n",
              "      <td>143.0</td>\n",
              "      <td>3.629442</td>\n",
              "      <td>239.361</td>\n",
              "      <td>2</td>\n",
              "      <td>0</td>\n",
              "      <td>29.54</td>\n",
              "      <td>CN(C)CC(=O)O[C@H]1C[C@H](CC2)C(C)(C)[C@@]12C</td>\n",
              "      <td>54.0</td>\n",
              "      <td>44</td>\n",
              "    </tr>\n",
              "    <tr>\n",
              "      <th>13</th>\n",
              "      <td>1018-As-105</td>\n",
              "      <td>13.5</td>\n",
              "      <td>73.0</td>\n",
              "      <td>5.407407</td>\n",
              "      <td>641.133</td>\n",
              "      <td>2</td>\n",
              "      <td>0</td>\n",
              "      <td>24.72</td>\n",
              "      <td>CC1(C)[C@H](CC2)CC(\\[C@@]12C)=N\\CC[N+](CC)(CC)...</td>\n",
              "      <td>63.0</td>\n",
              "      <td>102</td>\n",
              "    </tr>\n",
              "    <tr>\n",
              "      <th>14</th>\n",
              "      <td>1019-YA-214</td>\n",
              "      <td>50.0</td>\n",
              "      <td>41.5</td>\n",
              "      <td>0.830000</td>\n",
              "      <td>472.674</td>\n",
              "      <td>6</td>\n",
              "      <td>0</td>\n",
              "      <td>77.32</td>\n",
              "      <td>CC1(C)[C@H](CC2)CC(\\[C@@]12C)=N/CCOC(=O)CCC(=O...</td>\n",
              "      <td>64.0</td>\n",
              "      <td>82</td>\n",
              "    </tr>\n",
              "    <tr>\n",
              "      <th>15</th>\n",
              "      <td>1031-ОЛ7-144-1</td>\n",
              "      <td>6.4</td>\n",
              "      <td>53.0</td>\n",
              "      <td>8.281250</td>\n",
              "      <td>431.406</td>\n",
              "      <td>8</td>\n",
              "      <td>2</td>\n",
              "      <td>123.02</td>\n",
              "      <td>CC(=O)C(C1=O)=C(O)C=C2Oc(c3[C@@]12C)c4c(c(C)c3...</td>\n",
              "      <td>65.0</td>\n",
              "      <td>68</td>\n",
              "    </tr>\n",
              "    <tr>\n",
              "      <th>...</th>\n",
              "      <td>...</td>\n",
              "      <td>...</td>\n",
              "      <td>...</td>\n",
              "      <td>...</td>\n",
              "      <td>...</td>\n",
              "      <td>...</td>\n",
              "      <td>...</td>\n",
              "      <td>...</td>\n",
              "      <td>...</td>\n",
              "      <td>...</td>\n",
              "      <td>...</td>\n",
              "    </tr>\n",
              "    <tr>\n",
              "      <th>1409</th>\n",
              "      <td>CHEMBL5176004</td>\n",
              "      <td>199.1</td>\n",
              "      <td>199.1</td>\n",
              "      <td>1.000000</td>\n",
              "      <td>220.274</td>\n",
              "      <td>4</td>\n",
              "      <td>0</td>\n",
              "      <td>55.99</td>\n",
              "      <td>O=C1C[C@@H](CC2)C(C)(C)[C@]12c(on3)nc3C</td>\n",
              "      <td>NaN</td>\n",
              "      <td>39</td>\n",
              "    </tr>\n",
              "    <tr>\n",
              "      <th>1415</th>\n",
              "      <td>CHEMBL4294644</td>\n",
              "      <td>150.2</td>\n",
              "      <td>150.2</td>\n",
              "      <td>1.000000</td>\n",
              "      <td>154.254</td>\n",
              "      <td>1</td>\n",
              "      <td>1</td>\n",
              "      <td>20.23</td>\n",
              "      <td>C[C@]12C(C)(C)[C@@H](CC2)C[C@@H]1O</td>\n",
              "      <td>NaN</td>\n",
              "      <td>34</td>\n",
              "    </tr>\n",
              "    <tr>\n",
              "      <th>1429</th>\n",
              "      <td>CHEMBL154</td>\n",
              "      <td>3.7</td>\n",
              "      <td>230.3</td>\n",
              "      <td>62.243243</td>\n",
              "      <td>230.266</td>\n",
              "      <td>1</td>\n",
              "      <td>0</td>\n",
              "      <td>46.53</td>\n",
              "      <td>O=C(O)[C@@H](C)c(c1)ccc(c12)cc(cc2)OC</td>\n",
              "      <td>NaN</td>\n",
              "      <td>37</td>\n",
              "    </tr>\n",
              "    <tr>\n",
              "      <th>1448</th>\n",
              "      <td>CHEMBL3040734</td>\n",
              "      <td>29.1</td>\n",
              "      <td>176.3</td>\n",
              "      <td>6.058419</td>\n",
              "      <td>139.243</td>\n",
              "      <td>0</td>\n",
              "      <td>0</td>\n",
              "      <td>26.02</td>\n",
              "      <td>C[C@H](N)[C@H]([C@H]12)C[C@@H](C1)CC2</td>\n",
              "      <td>NaN</td>\n",
              "      <td>37</td>\n",
              "    </tr>\n",
              "    <tr>\n",
              "      <th>1449</th>\n",
              "      <td>CHEMBL3236446</td>\n",
              "      <td>36.7</td>\n",
              "      <td>222.5</td>\n",
              "      <td>6.062670</td>\n",
              "      <td>139.243</td>\n",
              "      <td>0</td>\n",
              "      <td>0</td>\n",
              "      <td>26.02</td>\n",
              "      <td>C[C@@H](N)[C@H]([C@H]12)C[C@@H](C1)CC2</td>\n",
              "      <td>NaN</td>\n",
              "      <td>38</td>\n",
              "    </tr>\n",
              "  </tbody>\n",
              "</table>\n",
              "<p>826 rows × 11 columns</p>\n",
              "</div>"
            ],
            "text/plain": [
              "               Title  IC50, mmg/ml  CC50-MDCK, mmg/ml         SI  \\\n",
              "2        1008-Ya-187           9.9              144.0  14.545455   \n",
              "4        1010-Ya-208          39.4              143.0   3.629442   \n",
              "13       1018-As-105          13.5               73.0   5.407407   \n",
              "14       1019-YA-214          50.0               41.5   0.830000   \n",
              "15    1031-ОЛ7-144-1           6.4               53.0   8.281250   \n",
              "...              ...           ...                ...        ...   \n",
              "1409   CHEMBL5176004         199.1              199.1   1.000000   \n",
              "1415   CHEMBL4294644         150.2              150.2   1.000000   \n",
              "1429       CHEMBL154           3.7              230.3  62.243243   \n",
              "1448   CHEMBL3040734          29.1              176.3   6.058419   \n",
              "1449   CHEMBL3236446          36.7              222.5   6.062670   \n",
              "\n",
              "      Molecular weight  Hydrogen bond acceptors  Hydrogen bond donors  \\\n",
              "2              250.431                        1                     0   \n",
              "4              239.361                        2                     0   \n",
              "13             641.133                        2                     0   \n",
              "14             472.674                        6                     0   \n",
              "15             431.406                        8                     2   \n",
              "...                ...                      ...                   ...   \n",
              "1409           220.274                        4                     0   \n",
              "1415           154.254                        1                     1   \n",
              "1429           230.266                        1                     0   \n",
              "1448           139.243                        0                     0   \n",
              "1449           139.243                        0                     0   \n",
              "\n",
              "      Polar SA                                             SMILES  Pictures  \\\n",
              "2        15.60          CCN(CC)CC\\N=C(\\[C@@]12C)C[C@H](C1(C)C)CC2      52.0   \n",
              "4        29.54       CN(C)CC(=O)O[C@H]1C[C@H](CC2)C(C)(C)[C@@]12C      54.0   \n",
              "13       24.72  CC1(C)[C@H](CC2)CC(\\[C@@]12C)=N\\CC[N+](CC)(CC)...      63.0   \n",
              "14       77.32  CC1(C)[C@H](CC2)CC(\\[C@@]12C)=N/CCOC(=O)CCC(=O...      64.0   \n",
              "15      123.02  CC(=O)C(C1=O)=C(O)C=C2Oc(c3[C@@]12C)c4c(c(C)c3...      65.0   \n",
              "...        ...                                                ...       ...   \n",
              "1409     55.99            O=C1C[C@@H](CC2)C(C)(C)[C@]12c(on3)nc3C       NaN   \n",
              "1415     20.23                 C[C@]12C(C)(C)[C@@H](CC2)C[C@@H]1O       NaN   \n",
              "1429     46.53              O=C(O)[C@@H](C)c(c1)ccc(c12)cc(cc2)OC       NaN   \n",
              "1448     26.02              C[C@H](N)[C@H]([C@H]12)C[C@@H](C1)CC2       NaN   \n",
              "1449     26.02             C[C@@H](N)[C@H]([C@H]12)C[C@@H](C1)CC2       NaN   \n",
              "\n",
              "      S_leng  \n",
              "2         41  \n",
              "4         44  \n",
              "13       102  \n",
              "14        82  \n",
              "15        68  \n",
              "...      ...  \n",
              "1409      39  \n",
              "1415      34  \n",
              "1429      37  \n",
              "1448      37  \n",
              "1449      38  \n",
              "\n",
              "[826 rows x 11 columns]"
            ]
          },
          "execution_count": 21,
          "metadata": {},
          "output_type": "execute_result"
        }
      ],
      "source": [
        "df[df['IC50, mmg/ml'] < 250]"
      ]
    },
    {
      "cell_type": "code",
      "execution_count": 22,
      "metadata": {
        "id": "wwk7YaFlQZ5I"
      },
      "outputs": [],
      "source": [
        "df_v = df[['IC50, mmg/ml', 'CC50-MDCK, mmg/ml', 'SI', 'Molecular weight',\n",
        "       'Hydrogen bond acceptors', 'Hydrogen bond donors', 'Polar SA', 'S_leng']]"
      ]
    },
    {
      "cell_type": "code",
      "execution_count": 23,
      "metadata": {
        "id": "urQANVQEaE_r"
      },
      "outputs": [],
      "source": [
        "df_v = df_v[df_v.SI < 500]\n",
        "df_v = df_v[df_v.S_leng < 140]"
      ]
    },
    {
      "cell_type": "code",
      "execution_count": 24,
      "metadata": {
        "colab": {
          "base_uri": "https://localhost:8080/",
          "height": 300
        },
        "id": "EPR8ZmSYSSoT",
        "outputId": "540ba693-c992-4368-cebc-c1b0bd69b2c7"
      },
      "outputs": [
        {
          "data": {
            "text/html": [
              "<div>\n",
              "<style scoped>\n",
              "    .dataframe tbody tr th:only-of-type {\n",
              "        vertical-align: middle;\n",
              "    }\n",
              "\n",
              "    .dataframe tbody tr th {\n",
              "        vertical-align: top;\n",
              "    }\n",
              "\n",
              "    .dataframe thead th {\n",
              "        text-align: right;\n",
              "    }\n",
              "</style>\n",
              "<table border=\"1\" class=\"dataframe\">\n",
              "  <thead>\n",
              "    <tr style=\"text-align: right;\">\n",
              "      <th></th>\n",
              "      <th>IC50, mmg/ml</th>\n",
              "      <th>CC50-MDCK, mmg/ml</th>\n",
              "      <th>SI</th>\n",
              "      <th>Molecular weight</th>\n",
              "      <th>Hydrogen bond acceptors</th>\n",
              "      <th>Hydrogen bond donors</th>\n",
              "      <th>Polar SA</th>\n",
              "      <th>S_leng</th>\n",
              "    </tr>\n",
              "  </thead>\n",
              "  <tbody>\n",
              "    <tr>\n",
              "      <th>count</th>\n",
              "      <td>826.000000</td>\n",
              "      <td>826.000000</td>\n",
              "      <td>826.000000</td>\n",
              "      <td>826.000000</td>\n",
              "      <td>826.000000</td>\n",
              "      <td>826.000000</td>\n",
              "      <td>826.000000</td>\n",
              "      <td>826.000000</td>\n",
              "    </tr>\n",
              "    <tr>\n",
              "      <th>mean</th>\n",
              "      <td>21.085836</td>\n",
              "      <td>62.008071</td>\n",
              "      <td>12.309207</td>\n",
              "      <td>360.474478</td>\n",
              "      <td>3.426150</td>\n",
              "      <td>1.157385</td>\n",
              "      <td>73.337324</td>\n",
              "      <td>55.915254</td>\n",
              "    </tr>\n",
              "    <tr>\n",
              "      <th>std</th>\n",
              "      <td>29.285577</td>\n",
              "      <td>56.648737</td>\n",
              "      <td>19.131256</td>\n",
              "      <td>108.146808</td>\n",
              "      <td>2.267022</td>\n",
              "      <td>1.388935</td>\n",
              "      <td>44.082755</td>\n",
              "      <td>16.143000</td>\n",
              "    </tr>\n",
              "    <tr>\n",
              "      <th>min</th>\n",
              "      <td>0.004219</td>\n",
              "      <td>0.031928</td>\n",
              "      <td>0.036161</td>\n",
              "      <td>139.243000</td>\n",
              "      <td>0.000000</td>\n",
              "      <td>0.000000</td>\n",
              "      <td>0.000000</td>\n",
              "      <td>16.000000</td>\n",
              "    </tr>\n",
              "    <tr>\n",
              "      <th>25%</th>\n",
              "      <td>2.700000</td>\n",
              "      <td>16.900000</td>\n",
              "      <td>1.663584</td>\n",
              "      <td>284.291750</td>\n",
              "      <td>2.000000</td>\n",
              "      <td>0.000000</td>\n",
              "      <td>38.770000</td>\n",
              "      <td>46.000000</td>\n",
              "    </tr>\n",
              "    <tr>\n",
              "      <th>50%</th>\n",
              "      <td>8.200000</td>\n",
              "      <td>43.350000</td>\n",
              "      <td>4.241162</td>\n",
              "      <td>345.306000</td>\n",
              "      <td>3.000000</td>\n",
              "      <td>1.000000</td>\n",
              "      <td>67.130000</td>\n",
              "      <td>53.000000</td>\n",
              "    </tr>\n",
              "    <tr>\n",
              "      <th>75%</th>\n",
              "      <td>30.000000</td>\n",
              "      <td>93.375000</td>\n",
              "      <td>13.098810</td>\n",
              "      <td>418.469250</td>\n",
              "      <td>4.000000</td>\n",
              "      <td>2.000000</td>\n",
              "      <td>99.330000</td>\n",
              "      <td>63.000000</td>\n",
              "    </tr>\n",
              "    <tr>\n",
              "      <th>max</th>\n",
              "      <td>200.000000</td>\n",
              "      <td>243.000000</td>\n",
              "      <td>100.000000</td>\n",
              "      <td>811.002000</td>\n",
              "      <td>14.000000</td>\n",
              "      <td>8.000000</td>\n",
              "      <td>270.280000</td>\n",
              "      <td>119.000000</td>\n",
              "    </tr>\n",
              "  </tbody>\n",
              "</table>\n",
              "</div>"
            ],
            "text/plain": [
              "       IC50, mmg/ml  CC50-MDCK, mmg/ml          SI  Molecular weight  \\\n",
              "count    826.000000         826.000000  826.000000        826.000000   \n",
              "mean      21.085836          62.008071   12.309207        360.474478   \n",
              "std       29.285577          56.648737   19.131256        108.146808   \n",
              "min        0.004219           0.031928    0.036161        139.243000   \n",
              "25%        2.700000          16.900000    1.663584        284.291750   \n",
              "50%        8.200000          43.350000    4.241162        345.306000   \n",
              "75%       30.000000          93.375000   13.098810        418.469250   \n",
              "max      200.000000         243.000000  100.000000        811.002000   \n",
              "\n",
              "       Hydrogen bond acceptors  Hydrogen bond donors    Polar SA      S_leng  \n",
              "count               826.000000            826.000000  826.000000  826.000000  \n",
              "mean                  3.426150              1.157385   73.337324   55.915254  \n",
              "std                   2.267022              1.388935   44.082755   16.143000  \n",
              "min                   0.000000              0.000000    0.000000   16.000000  \n",
              "25%                   2.000000              0.000000   38.770000   46.000000  \n",
              "50%                   3.000000              1.000000   67.130000   53.000000  \n",
              "75%                   4.000000              2.000000   99.330000   63.000000  \n",
              "max                  14.000000              8.000000  270.280000  119.000000  "
            ]
          },
          "execution_count": 24,
          "metadata": {},
          "output_type": "execute_result"
        }
      ],
      "source": [
        "df_v.describe()"
      ]
    },
    {
      "cell_type": "code",
      "execution_count": 25,
      "metadata": {
        "colab": {
          "base_uri": "https://localhost:8080/",
          "height": 447
        },
        "id": "3oNXICujUxdD",
        "outputId": "d94e2bf3-d41f-4e75-847f-af1d9913e84a"
      },
      "outputs": [
        {
          "data": {
            "text/plain": [
              "<Axes: ylabel='Polar SA'>"
            ]
          },
          "execution_count": 25,
          "metadata": {},
          "output_type": "execute_result"
        },
        {
          "data": {
            "image/png": "[encoded data removed]",
            "text/plain": [
              "<Figure size 640x480 with 1 Axes>"
            ]
          },
          "metadata": {},
          "output_type": "display_data"
        }
      ],
      "source": [
        "sns.boxplot(df['Polar SA'])"
      ]
    },
    {
      "cell_type": "code",
      "execution_count": 26,
      "metadata": {
        "colab": {
          "base_uri": "https://localhost:8080/"
        },
        "id": "tlS7LB3DYuu2",
        "outputId": "e0a24143-034c-4689-b7a5-efccb8c9dcf6"
      },
      "outputs": [
        {
          "data": {
            "text/plain": [
              "Hydrogen bond acceptors\n",
              "0     11.600000\n",
              "1     16.532906\n",
              "2     20.490741\n",
              "3     31.696894\n",
              "4     21.559379\n",
              "5     23.335304\n",
              "6     14.037736\n",
              "7      8.443087\n",
              "8     16.074994\n",
              "9     28.323778\n",
              "10    11.583333\n",
              "11    13.900000\n",
              "12     4.350000\n",
              "13     7.500000\n",
              "14     1.700000\n",
              "Name: IC50, mmg/ml, dtype: float64"
            ]
          },
          "execution_count": 26,
          "metadata": {},
          "output_type": "execute_result"
        }
      ],
      "source": [
        "df_v.groupby('Hydrogen bond acceptors')['IC50, mmg/ml'].mean()"
      ]
    },
    {
      "cell_type": "code",
      "execution_count": 27,
      "metadata": {
        "colab": {
          "base_uri": "https://localhost:8080/"
        },
        "id": "ifnCoUYCY7Pb",
        "outputId": "1a029764-fd34-42fd-c536-1f10a1264283"
      },
      "outputs": [
        {
          "data": {
            "text/plain": [
              "Hydrogen bond donors\n",
              "0    14.400772\n",
              "1    29.043460\n",
              "2    31.258481\n",
              "3    15.385965\n",
              "4     4.574572\n",
              "5     4.916305\n",
              "6     8.428571\n",
              "7    17.633333\n",
              "8     2.700000\n",
              "Name: IC50, mmg/ml, dtype: float64"
            ]
          },
          "execution_count": 27,
          "metadata": {},
          "output_type": "execute_result"
        }
      ],
      "source": [
        "df_v.groupby('Hydrogen bond donors')['IC50, mmg/ml'].mean()"
      ]
    },
    {
      "cell_type": "code",
      "execution_count": 28,
      "metadata": {
        "colab": {
          "base_uri": "https://localhost:8080/",
          "height": 607
        },
        "id": "2EeJMvNzZpZE",
        "outputId": "31ca934c-fd8c-48e3-bb66-e43040a8a0e3"
      },
      "outputs": [
        {
          "data": {
            "image/png": "[encoded data removed]",
            "text/plain": [
              "<Figure size 600x600 with 3 Axes>"
            ]
          },
          "metadata": {},
          "output_type": "display_data"
        }
      ],
      "source": [
        "sns.jointplot(x='Hydrogen bond donors', y='SI', data=df_v);"
      ]
    },
    {
      "cell_type": "code",
      "execution_count": 29,
      "metadata": {
        "colab": {
          "base_uri": "https://localhost:8080/",
          "height": 607
        },
        "id": "BHeTP3qNakgE",
        "outputId": "2a78f66d-58ae-475d-8b78-730538445150"
      },
      "outputs": [
        {
          "data": {
            "image/png": "[encoded data removed]",
            "text/plain": [
              "<Figure size 600x600 with 3 Axes>"
            ]
          },
          "metadata": {},
          "output_type": "display_data"
        }
      ],
      "source": [
        "sns.jointplot(x='Hydrogen bond acceptors', y='SI', data=df_v);"
      ]
    },
    {
      "cell_type": "code",
      "execution_count": 30,
      "metadata": {
        "colab": {
          "base_uri": "https://localhost:8080/",
          "height": 607
        },
        "id": "Xcm_BHgsbl0Y",
        "outputId": "c74c1d00-1ec2-4ee1-e81e-5fd24fec1416"
      },
      "outputs": [
        {
          "data": {
            "image/png": "[encoded data removed]",
            "text/plain": [
              "<Figure size 600x600 with 3 Axes>"
            ]
          },
          "metadata": {},
          "output_type": "display_data"
        }
      ],
      "source": [
        "sns.jointplot(x='Hydrogen bond acceptors', y='SI', data=df_v);"
      ]
    },
    {
      "cell_type": "code",
      "execution_count": 31,
      "metadata": {
        "colab": {
          "base_uri": "https://localhost:8080/",
          "height": 300
        },
        "id": "M90sC6AfbMdC",
        "outputId": "840ef7ae-b820-42ed-f32e-9efd9a869a8e"
      },
      "outputs": [
        {
          "data": {
            "text/html": [
              "<div>\n",
              "<style scoped>\n",
              "    .dataframe tbody tr th:only-of-type {\n",
              "        vertical-align: middle;\n",
              "    }\n",
              "\n",
              "    .dataframe tbody tr th {\n",
              "        vertical-align: top;\n",
              "    }\n",
              "\n",
              "    .dataframe thead th {\n",
              "        text-align: right;\n",
              "    }\n",
              "</style>\n",
              "<table border=\"1\" class=\"dataframe\">\n",
              "  <thead>\n",
              "    <tr style=\"text-align: right;\">\n",
              "      <th></th>\n",
              "      <th>IC50, mmg/ml</th>\n",
              "      <th>CC50-MDCK, mmg/ml</th>\n",
              "      <th>SI</th>\n",
              "      <th>Molecular weight</th>\n",
              "      <th>Hydrogen bond acceptors</th>\n",
              "      <th>Hydrogen bond donors</th>\n",
              "      <th>Polar SA</th>\n",
              "      <th>S_leng</th>\n",
              "    </tr>\n",
              "  </thead>\n",
              "  <tbody>\n",
              "    <tr>\n",
              "      <th>IC50, mmg/ml</th>\n",
              "      <td>1.000000</td>\n",
              "      <td>0.490641</td>\n",
              "      <td>-0.353011</td>\n",
              "      <td>0.041513</td>\n",
              "      <td>-0.019716</td>\n",
              "      <td>0.002977</td>\n",
              "      <td>0.044862</td>\n",
              "      <td>-0.025524</td>\n",
              "    </tr>\n",
              "    <tr>\n",
              "      <th>CC50-MDCK, mmg/ml</th>\n",
              "      <td>0.490641</td>\n",
              "      <td>1.000000</td>\n",
              "      <td>0.038287</td>\n",
              "      <td>-0.014109</td>\n",
              "      <td>0.014909</td>\n",
              "      <td>-0.017078</td>\n",
              "      <td>0.045552</td>\n",
              "      <td>0.019636</td>\n",
              "    </tr>\n",
              "    <tr>\n",
              "      <th>SI</th>\n",
              "      <td>-0.353011</td>\n",
              "      <td>0.038287</td>\n",
              "      <td>1.000000</td>\n",
              "      <td>-0.025821</td>\n",
              "      <td>0.033907</td>\n",
              "      <td>0.022420</td>\n",
              "      <td>0.014253</td>\n",
              "      <td>0.003325</td>\n",
              "    </tr>\n",
              "    <tr>\n",
              "      <th>Molecular weight</th>\n",
              "      <td>0.041513</td>\n",
              "      <td>-0.014109</td>\n",
              "      <td>-0.025821</td>\n",
              "      <td>1.000000</td>\n",
              "      <td>0.617577</td>\n",
              "      <td>0.299117</td>\n",
              "      <td>0.707083</td>\n",
              "      <td>0.771850</td>\n",
              "    </tr>\n",
              "    <tr>\n",
              "      <th>Hydrogen bond acceptors</th>\n",
              "      <td>-0.019716</td>\n",
              "      <td>0.014909</td>\n",
              "      <td>0.033907</td>\n",
              "      <td>0.617577</td>\n",
              "      <td>1.000000</td>\n",
              "      <td>0.497591</td>\n",
              "      <td>0.770873</td>\n",
              "      <td>0.487671</td>\n",
              "    </tr>\n",
              "    <tr>\n",
              "      <th>Hydrogen bond donors</th>\n",
              "      <td>0.002977</td>\n",
              "      <td>-0.017078</td>\n",
              "      <td>0.022420</td>\n",
              "      <td>0.299117</td>\n",
              "      <td>0.497591</td>\n",
              "      <td>1.000000</td>\n",
              "      <td>0.669975</td>\n",
              "      <td>0.277980</td>\n",
              "    </tr>\n",
              "    <tr>\n",
              "      <th>Polar SA</th>\n",
              "      <td>0.044862</td>\n",
              "      <td>0.045552</td>\n",
              "      <td>0.014253</td>\n",
              "      <td>0.707083</td>\n",
              "      <td>0.770873</td>\n",
              "      <td>0.669975</td>\n",
              "      <td>1.000000</td>\n",
              "      <td>0.526978</td>\n",
              "    </tr>\n",
              "    <tr>\n",
              "      <th>S_leng</th>\n",
              "      <td>-0.025524</td>\n",
              "      <td>0.019636</td>\n",
              "      <td>0.003325</td>\n",
              "      <td>0.771850</td>\n",
              "      <td>0.487671</td>\n",
              "      <td>0.277980</td>\n",
              "      <td>0.526978</td>\n",
              "      <td>1.000000</td>\n",
              "    </tr>\n",
              "  </tbody>\n",
              "</table>\n",
              "</div>"
            ],
            "text/plain": [
              "                         IC50, mmg/ml  CC50-MDCK, mmg/ml        SI  \\\n",
              "IC50, mmg/ml                 1.000000           0.490641 -0.353011   \n",
              "CC50-MDCK, mmg/ml            0.490641           1.000000  0.038287   \n",
              "SI                          -0.353011           0.038287  1.000000   \n",
              "Molecular weight             0.041513          -0.014109 -0.025821   \n",
              "Hydrogen bond acceptors     -0.019716           0.014909  0.033907   \n",
              "Hydrogen bond donors         0.002977          -0.017078  0.022420   \n",
              "Polar SA                     0.044862           0.045552  0.014253   \n",
              "S_leng                      -0.025524           0.019636  0.003325   \n",
              "\n",
              "                         Molecular weight  Hydrogen bond acceptors  \\\n",
              "IC50, mmg/ml                     0.041513                -0.019716   \n",
              "CC50-MDCK, mmg/ml               -0.014109                 0.014909   \n",
              "SI                              -0.025821                 0.033907   \n",
              "Molecular weight                 1.000000                 0.617577   \n",
              "Hydrogen bond acceptors          0.617577                 1.000000   \n",
              "Hydrogen bond donors             0.299117                 0.497591   \n",
              "Polar SA                         0.707083                 0.770873   \n",
              "S_leng                           0.771850                 0.487671   \n",
              "\n",
              "                         Hydrogen bond donors  Polar SA    S_leng  \n",
              "IC50, mmg/ml                         0.002977  0.044862 -0.025524  \n",
              "CC50-MDCK, mmg/ml                   -0.017078  0.045552  0.019636  \n",
              "SI                                   0.022420  0.014253  0.003325  \n",
              "Molecular weight                     0.299117  0.707083  0.771850  \n",
              "Hydrogen bond acceptors              0.497591  0.770873  0.487671  \n",
              "Hydrogen bond donors                 1.000000  0.669975  0.277980  \n",
              "Polar SA                             0.669975  1.000000  0.526978  \n",
              "S_leng                               0.277980  0.526978  1.000000  "
            ]
          },
          "execution_count": 31,
          "metadata": {},
          "output_type": "execute_result"
        }
      ],
      "source": [
        "df_v.corr()"
      ]
    },
    {
      "cell_type": "markdown",
      "metadata": {
        "id": "rqRnHrrR1iWk"
      },
      "source": [
        "## Векторайзер"
      ]
    },
    {
      "cell_type": "code",
      "execution_count": null,
      "metadata": {
        "id": "fCjy3hLqfPkm"
      },
      "outputs": [],
      "source": [
        "OCC\\N=C(\\[C@]12C)C[C@@H](C1(C)C)CC2"
      ]
    },
    {
      "cell_type": "code",
      "execution_count": 32,
      "metadata": {
        "colab": {
          "base_uri": "https://localhost:8080/",
          "height": 528
        },
        "id": "3p-Y3K_Fh4HH",
        "outputId": "94ab6881-b85f-4c3c-94bd-ecb329dde3aa"
      },
      "outputs": [
        {
          "name": "stderr",
          "output_type": "stream",
          "text": [
            "c:\\Users\\po6wi\\AppData\\Local\\Programs\\Python\\Python311\\Lib\\site-packages\\rdkit\\Chem\\PandasTools.py:371: SettingWithCopyWarning: \n",
            "A value is trying to be set on a copy of a slice from a DataFrame.\n",
            "Try using .loc[row_indexer,col_indexer] = value instead\n",
            "\n",
            "See the caveats in the documentation: https://pandas.pydata.org/pandas-docs/stable/user_guide/indexing.html#returning-a-view-versus-a-copy\n",
            "  frame[molCol] = frame[smilesCol].map(Chem.MolFromSmiles)\n"
          ]
        },
        {
          "data": {
            "text/html": [
              "<div>\n",
              "<style scoped>\n",
              "    .dataframe tbody tr th:only-of-type {\n",
              "        vertical-align: middle;\n",
              "    }\n",
              "\n",
              "    .dataframe tbody tr th {\n",
              "        vertical-align: top;\n",
              "    }\n",
              "\n",
              "    .dataframe thead th {\n",
              "        text-align: right;\n",
              "    }\n",
              "</style>\n",
              "<table border=\"1\" class=\"dataframe\">\n",
              "  <thead>\n",
              "    <tr style=\"text-align: right;\">\n",
              "      <th></th>\n",
              "      <th>SMILES</th>\n",
              "      <th>Molecule</th>\n",
              "    </tr>\n",
              "  </thead>\n",
              "  <tbody>\n",
              "    <tr>\n",
              "      <th>2</th>\n",
              "      <td>CCN(CC)CC\\N=C(\\[C@@]12C)C[C@H](C1(C)C)CC2</td>\n",
              "      <td>&lt;rdkit.Chem.rdchem.Mol object at 0x00000206311...</td>\n",
              "    </tr>\n",
              "    <tr>\n",
              "      <th>4</th>\n",
              "      <td>CN(C)CC(=O)O[C@H]1C[C@H](CC2)C(C)(C)[C@@]12C</td>\n",
              "      <td>&lt;rdkit.Chem.rdchem.Mol object at 0x00000206311...</td>\n",
              "    </tr>\n",
              "    <tr>\n",
              "      <th>13</th>\n",
              "      <td>CC1(C)[C@H](CC2)CC(\\[C@@]12C)=N\\CC[N+](CC)(CC)...</td>\n",
              "      <td>&lt;rdkit.Chem.rdchem.Mol object at 0x00000206311...</td>\n",
              "    </tr>\n",
              "    <tr>\n",
              "      <th>14</th>\n",
              "      <td>CC1(C)[C@H](CC2)CC(\\[C@@]12C)=N/CCOC(=O)CCC(=O...</td>\n",
              "      <td>&lt;rdkit.Chem.rdchem.Mol object at 0x00000206311...</td>\n",
              "    </tr>\n",
              "    <tr>\n",
              "      <th>15</th>\n",
              "      <td>CC(=O)C(C1=O)=C(O)C=C2Oc(c3[C@@]12C)c4c(c(C)c3...</td>\n",
              "      <td>&lt;rdkit.Chem.rdchem.Mol object at 0x00000206311...</td>\n",
              "    </tr>\n",
              "    <tr>\n",
              "      <th>...</th>\n",
              "      <td>...</td>\n",
              "      <td>...</td>\n",
              "    </tr>\n",
              "    <tr>\n",
              "      <th>1409</th>\n",
              "      <td>O=C1C[C@@H](CC2)C(C)(C)[C@]12c(on3)nc3C</td>\n",
              "      <td>&lt;rdkit.Chem.rdchem.Mol object at 0x0000020634F...</td>\n",
              "    </tr>\n",
              "    <tr>\n",
              "      <th>1415</th>\n",
              "      <td>C[C@]12C(C)(C)[C@@H](CC2)C[C@@H]1O</td>\n",
              "      <td>&lt;rdkit.Chem.rdchem.Mol object at 0x0000020634F...</td>\n",
              "    </tr>\n",
              "    <tr>\n",
              "      <th>1429</th>\n",
              "      <td>O=C(O)[C@@H](C)c(c1)ccc(c12)cc(cc2)OC</td>\n",
              "      <td>&lt;rdkit.Chem.rdchem.Mol object at 0x0000020634F...</td>\n",
              "    </tr>\n",
              "    <tr>\n",
              "      <th>1448</th>\n",
              "      <td>C[C@H](N)[C@H]([C@H]12)C[C@@H](C1)CC2</td>\n",
              "      <td>&lt;rdkit.Chem.rdchem.Mol object at 0x0000020634F...</td>\n",
              "    </tr>\n",
              "    <tr>\n",
              "      <th>1449</th>\n",
              "      <td>C[C@@H](N)[C@H]([C@H]12)C[C@@H](C1)CC2</td>\n",
              "      <td>&lt;rdkit.Chem.rdchem.Mol object at 0x0000020634F...</td>\n",
              "    </tr>\n",
              "  </tbody>\n",
              "</table>\n",
              "<p>826 rows × 2 columns</p>\n",
              "</div>"
            ],
            "text/plain": [
              "                                                 SMILES  \\\n",
              "2             CCN(CC)CC\\N=C(\\[C@@]12C)C[C@H](C1(C)C)CC2   \n",
              "4          CN(C)CC(=O)O[C@H]1C[C@H](CC2)C(C)(C)[C@@]12C   \n",
              "13    CC1(C)[C@H](CC2)CC(\\[C@@]12C)=N\\CC[N+](CC)(CC)...   \n",
              "14    CC1(C)[C@H](CC2)CC(\\[C@@]12C)=N/CCOC(=O)CCC(=O...   \n",
              "15    CC(=O)C(C1=O)=C(O)C=C2Oc(c3[C@@]12C)c4c(c(C)c3...   \n",
              "...                                                 ...   \n",
              "1409            O=C1C[C@@H](CC2)C(C)(C)[C@]12c(on3)nc3C   \n",
              "1415                 C[C@]12C(C)(C)[C@@H](CC2)C[C@@H]1O   \n",
              "1429              O=C(O)[C@@H](C)c(c1)ccc(c12)cc(cc2)OC   \n",
              "1448              C[C@H](N)[C@H]([C@H]12)C[C@@H](C1)CC2   \n",
              "1449             C[C@@H](N)[C@H]([C@H]12)C[C@@H](C1)CC2   \n",
              "\n",
              "                                               Molecule  \n",
              "2     <rdkit.Chem.rdchem.Mol object at 0x00000206311...  \n",
              "4     <rdkit.Chem.rdchem.Mol object at 0x00000206311...  \n",
              "13    <rdkit.Chem.rdchem.Mol object at 0x00000206311...  \n",
              "14    <rdkit.Chem.rdchem.Mol object at 0x00000206311...  \n",
              "15    <rdkit.Chem.rdchem.Mol object at 0x00000206311...  \n",
              "...                                                 ...  \n",
              "1409  <rdkit.Chem.rdchem.Mol object at 0x0000020634F...  \n",
              "1415  <rdkit.Chem.rdchem.Mol object at 0x0000020634F...  \n",
              "1429  <rdkit.Chem.rdchem.Mol object at 0x0000020634F...  \n",
              "1448  <rdkit.Chem.rdchem.Mol object at 0x0000020634F...  \n",
              "1449  <rdkit.Chem.rdchem.Mol object at 0x0000020634F...  \n",
              "\n",
              "[826 rows x 2 columns]"
            ]
          },
          "execution_count": 32,
          "metadata": {},
          "output_type": "execute_result"
        }
      ],
      "source": [
        "PandasTools.AddMoleculeColumnToFrame(df_w,'SMILES','Molecule')\n",
        "df_w[[\"SMILES\",\"Molecule\"]]"
      ]
    },
    {
      "cell_type": "code",
      "execution_count": 34,
      "metadata": {
        "id": "BHrW6cy1kKNB"
      },
      "outputs": [],
      "source": [
        "from molvecgen.vectorizers import SmilesVectorizer"
      ]
    },
    {
      "cell_type": "code",
      "execution_count": 35,
      "metadata": {
        "id": "FOKqbbDCqiK7"
      },
      "outputs": [],
      "source": [
        "smivec = SmilesVectorizer(pad=1, leftpad=True, canonical=False, augment=True)\n",
        "smivec.fit(df_w.Molecule.values, )"
      ]
    },
    {
      "cell_type": "code",
      "execution_count": 36,
      "metadata": {
        "colab": {
          "base_uri": "https://localhost:8080/"
        },
        "id": "NdMOZmPUq85g",
        "outputId": "4edd9779-4600-40b8-aac4-c0f13e80959f"
      },
      "outputs": [
        {
          "name": "stdout",
          "output_type": "stream",
          "text": [
            "oF1[Crcn(]4+l2@BS)\\-i6eOsH5NI=P/3#^$?\n"
          ]
        },
        {
          "data": {
            "text/plain": [
              "(116, 37)"
            ]
          },
          "execution_count": 36,
          "metadata": {},
          "output_type": "execute_result"
        }
      ],
      "source": [
        "print(smivec.charset)\n",
        "smivec.dims"
      ]
    },
    {
      "cell_type": "code",
      "execution_count": 43,
      "metadata": {
        "colab": {
          "base_uri": "https://localhost:8080/"
        },
        "id": "Aeq6shwBE7pK",
        "outputId": "6a516781-a5f0-4805-cae5-211f647e0086"
      },
      "outputs": [
        {
          "name": "stdout",
          "output_type": "stream",
          "text": [
            "Maximum allowed SMILES length 115\n"
          ]
        }
      ],
      "source": [
        "print(\"Maximum allowed SMILES length %s\"%smivec.maxlength)"
      ]
    },
    {
      "cell_type": "code",
      "execution_count": 44,
      "metadata": {
        "id": "T_A5hDEIr4V9"
      },
      "outputs": [],
      "source": [
        "y = df_w['IC50, mmg/ml'].values.reshape((-1,1))\n",
        "X = df_w.Molecule.values\n",
        "X_train, X_test, y_train, y_test = train_test_split(X, y,  test_size=0.25, random_state=42)\n",
        "X_train, X_validation, y_train, y_validation = train_test_split(X_train, y_train,  test_size=0.2, random_state=42)\n",
        "#Normalizing output using standard scaling\n",
        "scaler = StandardScaler()\n",
        "y_train = scaler.fit_transform(y_train)\n",
        "y_test = scaler.transform(y_test)\n",
        "y_validation = scaler.transform(y_validation)"
      ]
    },
    {
      "cell_type": "code",
      "execution_count": 46,
      "metadata": {
        "id": "dQh8G-x0yEkY"
      },
      "outputs": [
        {
          "data": {
            "text/plain": [
              "array([[ 3.97020321e-01],\n",
              "       [-4.51173156e-01],\n",
              "       [ 2.90996136e-01],\n",
              "       [-7.58643292e-01],\n",
              "       [-7.30370176e-01],\n",
              "       [ 2.11107797e+00],\n",
              "       [-5.21855946e-01],\n",
              "       [-7.65711571e-01],\n",
              "       [ 4.73083779e-03],\n",
              "       [-7.16233618e-01],\n",
              "       [-7.58643292e-01],\n",
              "       [-5.04185248e-01],\n",
              "       [ 5.06578645e-01],\n",
              "       [-4.90048690e-01],\n",
              "       [-4.51173156e-01],\n",
              "       [-5.67799759e-01],\n",
              "       [-6.24345991e-01],\n",
              "       [ 4.04088600e-01],\n",
              "       [-6.31414270e-01],\n",
              "       [-6.10209433e-01],\n",
              "       [-6.98562920e-01],\n",
              "       [ 8.74129152e-01],\n",
              "       [-7.58643292e-01],\n",
              "       [-7.19767757e-01],\n",
              "       [ 1.13565547e+00],\n",
              "       [-5.35992504e-01],\n",
              "       [ 2.91686178e+00],\n",
              "       [-9.77592074e-02],\n",
              "       [ 1.60232975e-01],\n",
              "       [-5.14787667e-01],\n",
              "       [-6.98562920e-01],\n",
              "       [-7.23301897e-01],\n",
              "       [-7.19767757e-01],\n",
              "       [-3.98161064e-01],\n",
              "       [-6.59687386e-01],\n",
              "       [-7.16233618e-01],\n",
              "       [-1.82578555e-01],\n",
              "       [-4.15831761e-01],\n",
              "       [-7.44506734e-01],\n",
              "       [-1.68441997e-01],\n",
              "       [-6.49084967e-01],\n",
              "       [-3.80490366e-01],\n",
              "       [-6.63221525e-01],\n",
              "       [ 3.01598555e-01],\n",
              "       [-5.99607015e-01],\n",
              "       [ 6.23205248e-01],\n",
              "       [ 1.14979203e+00],\n",
              "       [ 2.90996136e-01],\n",
              "       [ 1.55975221e+00],\n",
              "       [-6.27880131e-01],\n",
              "       [-5.32458364e-01],\n",
              "       [-6.42016688e-01],\n",
              "       [-7.33904315e-01],\n",
              "       [-5.57197341e-01],\n",
              "       [ 3.97020321e-01],\n",
              "       [-2.53261345e-01],\n",
              "       [-3.52217250e-01],\n",
              "       [ 2.59188881e-01],\n",
              "       [-7.23301897e-01],\n",
              "       [-6.27880131e-01],\n",
              "       [-5.14787667e-01],\n",
              "       [ 7.04490456e-01],\n",
              "       [ 1.90256374e+00],\n",
              "       [-5.50129062e-01],\n",
              "       [-6.56153246e-01],\n",
              "       [-3.76788361e-02],\n",
              "       [ 4.36063722e-02],\n",
              "       [-7.40972594e-01],\n",
              "       [ 2.27718253e+00],\n",
              "       [ 2.90996136e-01],\n",
              "       [-5.57197341e-01],\n",
              "       [ 2.90996136e-01],\n",
              "       [-5.25390085e-01],\n",
              "       [-1.61373718e-01],\n",
              "       [ 6.48112091e-02],\n",
              "       [-6.63221525e-01],\n",
              "       [ 6.76217340e-01],\n",
              "       [-6.98562920e-01],\n",
              "       [-7.26836036e-01],\n",
              "       [-4.93582830e-01],\n",
              "       [-6.03141154e-01],\n",
              "       [-6.38482549e-01],\n",
              "       [-7.48040873e-01],\n",
              "       [ 1.31959859e-01],\n",
              "       [-6.56153246e-01],\n",
              "       [ 3.97020321e-01],\n",
              "       [-6.98562920e-01],\n",
              "       [ 1.56682049e+00],\n",
              "       [-6.98562920e-01],\n",
              "       [-5.92538736e-01],\n",
              "       [ 5.88553895e+00],\n",
              "       [-2.85068600e-01],\n",
              "       [-6.80892223e-01],\n",
              "       [ 2.06866830e+00],\n",
              "       [-7.44506734e-01],\n",
              "       [-3.80490366e-01],\n",
              "       [-7.30370176e-01],\n",
              "       [ 4.60634832e-01],\n",
              "       [-6.73823944e-01],\n",
              "       [ 2.76489378e+00],\n",
              "       [ 2.90996136e-01],\n",
              "       [-6.52619107e-01],\n",
              "       [-5.14787667e-01],\n",
              "       [ 2.76489378e+00],\n",
              "       [-4.15831761e-01],\n",
              "       [ 2.90996136e-01],\n",
              "       [-3.80490366e-01],\n",
              "       [ 2.76489378e+00],\n",
              "       [-3.84024506e-01],\n",
              "       [-4.19365901e-01],\n",
              "       [-6.42016688e-01],\n",
              "       [-6.27880131e-01],\n",
              "       [-4.93582830e-01],\n",
              "       [-6.20811852e-01],\n",
              "       [ 2.02625862e+00],\n",
              "       [-5.53663201e-01],\n",
              "       [ 2.90996136e-01],\n",
              "       [ 2.76489378e+00],\n",
              "       [-5.78402178e-01],\n",
              "       [-6.52619107e-01],\n",
              "       [ 2.90996136e-01],\n",
              "       [-6.42016688e-01],\n",
              "       [-1.64739991e-02],\n",
              "       [-5.18321806e-01],\n",
              "       [-6.91494641e-01],\n",
              "       [-6.03141154e-01],\n",
              "       [-4.47471150e-02],\n",
              "       [ 2.76489378e+00],\n",
              "       [-7.65711571e-01],\n",
              "       [-6.38482549e-01],\n",
              "       [ 2.36907016e+00],\n",
              "       [-5.78402178e-01],\n",
              "       [-4.33502459e-01],\n",
              "       [-6.91494641e-01],\n",
              "       [-7.65711571e-01],\n",
              "       [-4.68843854e-01],\n",
              "       [ 1.46433045e+00],\n",
              "       [-7.44506734e-01],\n",
              "       [-7.65711571e-01],\n",
              "       [ 9.97824034e-01],\n",
              "       [-7.44506734e-01],\n",
              "       [-4.15831761e-01],\n",
              "       [-6.98562920e-01],\n",
              "       [ 8.26497728e-03],\n",
              "       [-6.10209433e-01],\n",
              "       [ 2.90996136e-01],\n",
              "       [ 4.28827576e-01],\n",
              "       [-2.42658926e-01],\n",
              "       [-6.45550828e-01],\n",
              "       [ 8.35253617e-01],\n",
              "       [-6.73823944e-01],\n",
              "       [-4.15831761e-01],\n",
              "       [ 1.46079631e+00],\n",
              "       [-6.56153246e-01],\n",
              "       [-6.84426362e-01],\n",
              "       [-6.63221525e-01],\n",
              "       [-7.16233618e-01],\n",
              "       [-3.80490366e-01],\n",
              "       [-6.63221525e-01],\n",
              "       [ 1.14289162e-01],\n",
              "       [-7.62177431e-01],\n",
              "       [-4.51173156e-01],\n",
              "       [ 3.61678926e-01],\n",
              "       [-4.08763482e-01],\n",
              "       [-4.15831761e-01],\n",
              "       [-6.98562920e-01],\n",
              "       [ 2.90996136e-01],\n",
              "       [ 2.76489378e+00],\n",
              "       [ 2.90996136e-01],\n",
              "       [-2.70764176e-02],\n",
              "       [-4.82980412e-01],\n",
              "       [ 7.22161154e-01],\n",
              "       [-6.42016688e-01],\n",
              "       [-6.98562920e-01],\n",
              "       [-2.60329624e-01],\n",
              "       [-6.73823944e-01],\n",
              "       [-6.06675294e-01],\n",
              "       [-6.73823944e-01],\n",
              "       [ 1.92730272e+00],\n",
              "       [-6.84426362e-01],\n",
              "       [-2.70932042e-01],\n",
              "       [-4.19365901e-01],\n",
              "       [-6.03141154e-01],\n",
              "       [-7.33904315e-01],\n",
              "       [-6.56153246e-01],\n",
              "       [-6.98562920e-01],\n",
              "       [-3.80490366e-01],\n",
              "       [ 2.90996136e-01],\n",
              "       [ 1.10384822e+00],\n",
              "       [-6.34948409e-01],\n",
              "       [-3.27478274e-01],\n",
              "       [-7.65711571e-01],\n",
              "       [-2.85068600e-01],\n",
              "       [ 2.76489378e+00],\n",
              "       [ 1.09324580e+00],\n",
              "       [-6.52619107e-01],\n",
              "       [-6.20811852e-01],\n",
              "       [-2.63863763e-01],\n",
              "       [-6.17277712e-01],\n",
              "       [ 4.85373808e-01],\n",
              "       [-6.66755665e-01],\n",
              "       [ 1.78593714e+00],\n",
              "       [ 2.19589732e+00],\n",
              "       [ 4.60634832e-01],\n",
              "       [-4.86514551e-01],\n",
              "       [ 1.24874794e+00],\n",
              "       [-7.58643292e-01],\n",
              "       [ 1.18513343e+00],\n",
              "       [-2.17919950e-01],\n",
              "       [ 1.06850682e+00],\n",
              "       [ 2.90996136e-01],\n",
              "       [-3.80490366e-01],\n",
              "       [ 9.97824034e-01],\n",
              "       [-7.12699478e-01],\n",
              "       [-4.40570738e-01],\n",
              "       [-4.33502459e-01],\n",
              "       [-4.58241435e-01],\n",
              "       [-7.33904315e-01],\n",
              "       [ 1.07220883e-01],\n",
              "       [ 1.67284468e+00],\n",
              "       [ 6.29903327e+00],\n",
              "       [-5.25390085e-01],\n",
              "       [ 1.36184040e+00],\n",
              "       [-5.28924225e-01],\n",
              "       [ 2.90996136e-01],\n",
              "       [-6.38482549e-01],\n",
              "       [ 2.90996136e-01],\n",
              "       [-7.62177431e-01],\n",
              "       [-4.68843854e-01],\n",
              "       [-6.66755665e-01],\n",
              "       [-6.73823944e-01],\n",
              "       [-4.72377993e-01],\n",
              "       [-7.30370176e-01],\n",
              "       [-5.89004596e-01],\n",
              "       [ 5.41920040e-01],\n",
              "       [ 2.15348765e+00],\n",
              "       [-5.64265620e-01],\n",
              "       [ 8.56458454e-01],\n",
              "       [-7.68952897e-01],\n",
              "       [-6.77358083e-01],\n",
              "       [-7.33904315e-01],\n",
              "       [-6.42016688e-01],\n",
              "       [-4.08763482e-01],\n",
              "       [-2.28522368e-01],\n",
              "       [-6.95028781e-01],\n",
              "       [ 4.11156879e-01],\n",
              "       [-7.65711571e-01],\n",
              "       [-3.98161064e-01],\n",
              "       [-6.24345991e-01],\n",
              "       [ 7.96378083e-01],\n",
              "       [-6.91494641e-01],\n",
              "       [-7.55109152e-01],\n",
              "       [ 1.28055519e+00],\n",
              "       [-5.67799759e-01],\n",
              "       [ 9.97824034e-01],\n",
              "       [ 9.23607105e-01],\n",
              "       [-1.43703021e-01],\n",
              "       [-7.16233618e-01],\n",
              "       [-3.31012414e-01],\n",
              "       [ 5.03044506e-01],\n",
              "       [-2.92136879e-01],\n",
              "       [ 5.27783482e-01],\n",
              "       [-6.98562920e-01],\n",
              "       [-5.89004596e-01],\n",
              "       [ 2.90996136e-01],\n",
              "       [ 3.97020321e-01],\n",
              "       [-4.93582830e-01],\n",
              "       [ 1.35123798e+00],\n",
              "       [-2.78000321e-01],\n",
              "       [ 1.52441082e+00],\n",
              "       [ 6.12770696e-02],\n",
              "       [-3.80490366e-01],\n",
              "       [-4.75912133e-01],\n",
              "       [-6.98562920e-01],\n",
              "       [ 2.43975294e+00],\n",
              "       [-7.05631199e-01],\n",
              "       [ 5.06746511e-02],\n",
              "       [-6.73823944e-01],\n",
              "       [-7.65711571e-01],\n",
              "       [ 4.00554460e-01],\n",
              "       [-6.80892223e-01],\n",
              "       [ 1.31959859e-01],\n",
              "       [-6.31414270e-01],\n",
              "       [-7.48040873e-01],\n",
              "       [-6.49084967e-01],\n",
              "       [-5.74868038e-01],\n",
              "       [-7.58643292e-01],\n",
              "       [-1.89646834e-01],\n",
              "       [ 2.04039518e+00],\n",
              "       [-3.59285529e-01],\n",
              "       [ 2.19589732e+00],\n",
              "       [-3.91092785e-01],\n",
              "       [ 1.58095705e+00],\n",
              "       [ 1.51380840e+00],\n",
              "       [-6.38482549e-01],\n",
              "       [-5.43060783e-01],\n",
              "       [ 1.63767115e-01],\n",
              "       [ 3.97020321e-01],\n",
              "       [ 1.96971239e+00],\n",
              "       [-4.15831761e-01],\n",
              "       [-4.90048690e-01],\n",
              "       [-6.38482549e-01],\n",
              "       [-6.63221525e-01],\n",
              "       [-6.77358083e-01],\n",
              "       [ 9.34209523e-01],\n",
              "       [-4.15831761e-01],\n",
              "       [-6.70289804e-01],\n",
              "       [ 1.92730272e+00],\n",
              "       [-7.33904315e-01],\n",
              "       [-7.68971805e-01],\n",
              "       [-4.86514551e-01],\n",
              "       [-7.58643292e-01],\n",
              "       [-7.44506734e-01],\n",
              "       [-7.33904315e-01],\n",
              "       [-7.62177431e-01],\n",
              "       [ 2.23847486e-01],\n",
              "       [ 9.58948499e-01],\n",
              "       [-7.58643292e-01],\n",
              "       [-2.88602740e-01],\n",
              "       [-7.05631199e-01],\n",
              "       [-6.45550828e-01],\n",
              "       [-7.65711571e-01],\n",
              "       [ 8.26497728e-03],\n",
              "       [-6.98562920e-01],\n",
              "       [-7.12699478e-01],\n",
              "       [-5.92538736e-01],\n",
              "       [ 1.76473230e+00],\n",
              "       [-6.63221525e-01],\n",
              "       [-6.98562920e-01],\n",
              "       [-3.06273437e-01],\n",
              "       [-7.62177431e-01],\n",
              "       [ 1.31589659e+00],\n",
              "       [-1.79044416e-01],\n",
              "       [-7.30370176e-01],\n",
              "       [ 2.01919035e+00],\n",
              "       [ 2.54931127e+00],\n",
              "       [-4.93582830e-01],\n",
              "       [ 1.06850682e+00],\n",
              "       [-5.32458364e-01],\n",
              "       [-7.58643292e-01],\n",
              "       [-6.84426362e-01],\n",
              "       [-7.37438455e-01],\n",
              "       [-5.25390085e-01],\n",
              "       [-6.95028781e-01],\n",
              "       [-6.66755665e-01],\n",
              "       [ 1.25581622e+00],\n",
              "       [-6.56153246e-01],\n",
              "       [ 1.60232975e-01],\n",
              "       [-7.48040873e-01],\n",
              "       [-4.15831761e-01],\n",
              "       [-6.80892223e-01],\n",
              "       [-6.98562920e-01],\n",
              "       [-5.14787667e-01],\n",
              "       [ 2.90996136e-01],\n",
              "       [ 9.94289894e-01],\n",
              "       [-2.67397903e-01],\n",
              "       [-6.38482549e-01],\n",
              "       [-7.62177431e-01],\n",
              "       [-7.37438455e-01],\n",
              "       [-3.73422087e-01],\n",
              "       [-7.62177431e-01],\n",
              "       [-4.15831761e-01],\n",
              "       [ 2.59188881e-01],\n",
              "       [-6.27880131e-01],\n",
              "       [ 2.90996136e-01],\n",
              "       [-6.95028781e-01],\n",
              "       [ 2.52120602e-01],\n",
              "       [-7.37438455e-01],\n",
              "       [-6.87960502e-01],\n",
              "       [ 1.78593714e+00],\n",
              "       [-5.85470457e-01],\n",
              "       [-5.04185248e-01],\n",
              "       [-5.39526643e-01],\n",
              "       [ 2.18176076e+00],\n",
              "       [ 6.62080783e-01],\n",
              "       [ 1.15686031e+00],\n",
              "       [-7.51575013e-01],\n",
              "       [ 1.38304524e+00],\n",
              "       [-1.33100602e-01],\n",
              "       [-4.12297622e-01],\n",
              "       [-3.45148971e-01],\n",
              "       [-2.63863763e-01],\n",
              "       [-7.44506734e-01],\n",
              "       [-6.63221525e-01],\n",
              "       [-7.65711571e-01],\n",
              "       [-5.21855946e-01],\n",
              "       [-6.24345991e-01],\n",
              "       [ 1.14289162e-01],\n",
              "       [-4.68843854e-01],\n",
              "       [ 2.90996136e-01],\n",
              "       [-6.87960502e-01],\n",
              "       [-7.62177431e-01],\n",
              "       [-6.17277712e-01],\n",
              "       [-1.18964044e-01],\n",
              "       [-4.15831761e-01],\n",
              "       [-6.24178125e-02],\n",
              "       [ 4.35895855e-01],\n",
              "       [-6.24345991e-01],\n",
              "       [-5.92538736e-01],\n",
              "       [-5.53663201e-01],\n",
              "       [-6.98562920e-01],\n",
              "       [-4.82980412e-01],\n",
              "       [-6.63221525e-01],\n",
              "       [ 2.34079704e+00],\n",
              "       [-6.59687386e-01],\n",
              "       [-7.68503922e-01],\n",
              "       [ 2.90996136e-01],\n",
              "       [-7.62177431e-01],\n",
              "       [-6.27880131e-01],\n",
              "       [ 8.81197431e-01],\n",
              "       [-6.73823944e-01],\n",
              "       [ 1.39364766e+00],\n",
              "       [ 1.92730272e+00],\n",
              "       [-4.12297622e-01],\n",
              "       [-6.34948409e-01],\n",
              "       [-1.82578555e-01],\n",
              "       [-3.23944135e-01],\n",
              "       [-5.57197341e-01],\n",
              "       [ 3.68747205e-01],\n",
              "       [ 3.97020321e-01],\n",
              "       [ 2.76489378e+00],\n",
              "       [-7.63591087e-01],\n",
              "       [-6.84426362e-01],\n",
              "       [-7.19767757e-01],\n",
              "       [-1.47237160e-01],\n",
              "       [ 1.07220883e-01],\n",
              "       [ 2.09694141e+00],\n",
              "       [-7.44506734e-01],\n",
              "       [ 9.30675384e-01],\n",
              "       [-6.95028781e-01],\n",
              "       [ 1.58802533e+00],\n",
              "       [-3.45148971e-01],\n",
              "       [-5.43060783e-01],\n",
              "       [-4.75912133e-01],\n",
              "       [-7.40972594e-01],\n",
              "       [-7.65711571e-01],\n",
              "       [ 2.65180131e+00],\n",
              "       [ 2.76489378e+00],\n",
              "       [-5.07719388e-01],\n",
              "       [-6.24178125e-02],\n",
              "       [ 3.97020321e-01],\n",
              "       [ 1.48200114e+00],\n",
              "       [ 8.17582920e-01],\n",
              "       [ 2.48569676e+00],\n",
              "       [-4.26434180e-01],\n",
              "       [ 8.26497728e-03],\n",
              "       [-2.78000321e-01],\n",
              "       [-3.38080693e-01],\n",
              "       [-6.77358083e-01],\n",
              "       [-3.91092785e-01],\n",
              "       [ 2.25244355e+00],\n",
              "       [ 1.70465193e+00],\n",
              "       [-5.92538736e-01],\n",
              "       [-6.59687386e-01],\n",
              "       [-4.86514551e-01],\n",
              "       [ 1.58802533e+00],\n",
              "       [ 1.70465193e+00],\n",
              "       [ 1.16746273e+00],\n",
              "       [-6.87960502e-01],\n",
              "       [-6.13743573e-01],\n",
              "       [-6.38482549e-01],\n",
              "       [-6.63221525e-01],\n",
              "       [-6.24178125e-02],\n",
              "       [ 2.90996136e-01],\n",
              "       [-2.99205158e-01],\n",
              "       [-4.72377993e-01],\n",
              "       [-2.85068600e-01],\n",
              "       [-7.67770786e-01],\n",
              "       [-6.13743573e-01],\n",
              "       [ 1.46079631e+00],\n",
              "       [-4.72377993e-01],\n",
              "       [ 9.66184645e-02],\n",
              "       [-4.22900040e-01],\n",
              "       [-6.80892223e-01],\n",
              "       [-6.94860915e-02],\n",
              "       [-6.98562920e-01],\n",
              "       [-4.05229343e-01],\n",
              "       [-6.98562920e-01],\n",
              "       [ 1.58802533e+00],\n",
              "       [-3.13341716e-01],\n",
              "       [-6.63221525e-01],\n",
              "       [ 2.76489378e+00],\n",
              "       [ 3.97020321e-01],\n",
              "       [ 5.10112785e-01],\n",
              "       [-6.73823944e-01],\n",
              "       [ 2.02625862e+00],\n",
              "       [ 5.27783482e-01],\n",
              "       [ 2.48216262e+00],\n",
              "       [-5.53495335e-02],\n",
              "       [-3.80490366e-01],\n",
              "       [ 2.98064415e-01],\n",
              "       [ 1.86368821e+00],\n",
              "       [-6.73823944e-01],\n",
              "       [ 1.80007370e+00],\n",
              "       [-6.03141154e-01]])"
            ]
          },
          "execution_count": 46,
          "metadata": {},
          "output_type": "execute_result"
        }
      ],
      "source": [
        "y_train"
      ]
    },
    {
      "cell_type": "code",
      "execution_count": 47,
      "metadata": {
        "id": "DR9gLQziuUb9"
      },
      "outputs": [],
      "source": [
        "from pprint import pprint"
      ]
    },
    {
      "cell_type": "code",
      "execution_count": 48,
      "metadata": {
        "colab": {
          "base_uri": "https://localhost:8080/"
        },
        "id": "Lrno9FEA1yHc",
        "outputId": "cc96bce9-5a67-4919-b232-a3a7bf6b6def"
      },
      "outputs": [
        {
          "data": {
            "text/plain": [
              "(495, 1)"
            ]
          },
          "execution_count": 48,
          "metadata": {},
          "output_type": "execute_result"
        }
      ],
      "source": [
        "y_train.shape"
      ]
    },
    {
      "cell_type": "code",
      "execution_count": 49,
      "metadata": {
        "colab": {
          "base_uri": "https://localhost:8080/"
        },
        "id": "GUcEUb_SNCN_",
        "outputId": "6973a949-3448-4a43-8c29-111dfcb221db"
      },
      "outputs": [
        {
          "data": {
            "text/plain": [
              "(207, 1)"
            ]
          },
          "execution_count": 49,
          "metadata": {},
          "output_type": "execute_result"
        }
      ],
      "source": [
        "y_test.shape"
      ]
    },
    {
      "cell_type": "code",
      "execution_count": 50,
      "metadata": {
        "colab": {
          "base_uri": "https://localhost:8080/"
        },
        "id": "vsRRYu2MNHwm",
        "outputId": "881e41d6-34af-4940-a322-45e3a4dd3e44"
      },
      "outputs": [
        {
          "data": {
            "text/plain": [
              "(124, 1)"
            ]
          },
          "execution_count": 50,
          "metadata": {},
          "output_type": "execute_result"
        }
      ],
      "source": [
        "y_validation.shape"
      ]
    },
    {
      "cell_type": "code",
      "execution_count": 53,
      "metadata": {
        "id": "iHOmS8BIsc7W"
      },
      "outputs": [],
      "source": [
        "class SMILESMolDataset(Dataset):\n",
        "    def __init__(self, molecules, y, vectorizer):\n",
        "        self.molecules = molecules\n",
        "        self.y = y\n",
        "        self.vectorizer = vectorizer\n",
        "    def __len__(self):\n",
        "        return len(self.molecules)\n",
        "    def __getitem__(self, idx):\n",
        "        if torch.is_tensor(idx):\n",
        "            idx = idx.tolist()\n",
        "\n",
        "        mols = self.molecules[idx]\n",
        "\n",
        "        #The vectorizer was written to work with batches,\n",
        "        #but PyTorch datasets unfortunately works with single samples\n",
        "        sample = self.vectorizer.transform([mols])[0]\n",
        "        label = self.y[idx]\n",
        "        return sample, label"
      ]
    },
    {
      "cell_type": "code",
      "execution_count": 54,
      "metadata": {
        "colab": {
          "base_uri": "https://localhost:8080/"
        },
        "id": "z9SnXsLPsf1u",
        "outputId": "e629ec91-815c-4c5b-89b6-ae93b66de898"
      },
      "outputs": [
        {
          "data": {
            "text/plain": [
              "(array([[0, 0, 0, ..., 0, 0, 0],\n",
              "        [0, 0, 0, ..., 0, 0, 0],\n",
              "        [0, 0, 0, ..., 0, 0, 0],\n",
              "        ...,\n",
              "        [0, 0, 0, ..., 0, 0, 0],\n",
              "        [0, 0, 0, ..., 0, 0, 0],\n",
              "        [0, 0, 0, ..., 0, 1, 0]], dtype=int8),\n",
              " array([-0.72683604]))"
            ]
          },
          "execution_count": 54,
          "metadata": {},
          "output_type": "execute_result"
        }
      ],
      "source": [
        "train_dataset = SMILESMolDataset(X_train, y_train, smivec)\n",
        "train_dataset[78]"
      ]
    },
    {
      "cell_type": "code",
      "execution_count": 56,
      "metadata": {},
      "outputs": [
        {
          "data": {
            "text/plain": [
              "True"
            ]
          },
          "execution_count": 56,
          "metadata": {},
          "output_type": "execute_result"
        }
      ],
      "source": [
        "torch.cuda.is_available()"
      ]
    },
    {
      "cell_type": "code",
      "execution_count": 55,
      "metadata": {
        "colab": {
          "base_uri": "https://localhost:8080/"
        },
        "id": "uRwfmAaDskkG",
        "outputId": "c4b65be0-8e88-4144-f31c-1865261536c0"
      },
      "outputs": [
        {
          "name": "stdout",
          "output_type": "stream",
          "text": [
            "cuda:0\n"
          ]
        },
        {
          "data": {
            "text/plain": [
              "torch.Size([124, 116, 37])"
            ]
          },
          "execution_count": 55,
          "metadata": {},
          "output_type": "execute_result"
        }
      ],
      "source": [
        "device = torch.device(\"cuda:0\" if torch.cuda.is_available() else \"cpu\")\n",
        "print(device)\n",
        "X_validation_t = smivec.transform(X_validation, canonical=False)\n",
        "X_validation_t = torch.tensor(X_validation_t, device=device).float()\n",
        "y_validation_t = torch.tensor(y_validation, device=device).float()\n",
        "y_validation_t = torch.nan_to_num(y_validation_t, nan = torch.nanmean(y_validation_t))\n",
        "X_validation_t.shape"
      ]
    },
    {
      "cell_type": "code",
      "execution_count": 57,
      "metadata": {
        "id": "I8NeqSv5spq1"
      },
      "outputs": [],
      "source": [
        "class Net(nn.Module):\n",
        "    def __init__(self, dimensions, lstm_size, hidden_size, dropout_rate, out_size):\n",
        "        super(Net, self).__init__()\n",
        "\n",
        "        length = dims[0]\n",
        "        number_tokens = dims[1]\n",
        "\n",
        "\n",
        "        self.lstm = nn.GRU(input_size=number_tokens, hidden_size=lstm_size, num_layers=1, batch_first=True, bidirectional=False, dropout  = 0.2)\n",
        "        self.fc1 = nn.Linear(lstm_size, hidden_size) # Output layer\n",
        "        self.activation = nn.ReLU() # Non-Linear ReLU Layer\n",
        "        self.fc2 = nn.Linear(hidden_size, hidden_size//2) # Output layer\n",
        "        self.activation2 = nn.ReLU() # Non-Linear ReLU Layer\n",
        "        self.fc_out = nn.Linear(hidden_size//2, out_size) # Output layer\n",
        "        self.dropout = nn.Dropout(dropout_rate)\n",
        "\n",
        "    def forward(self, x):# Forward pass: stacking each layer together\n",
        "        #out, (h_n, c_n) = self.lstm(x) #LSTM network reads in one-hot-encoded SMILES, h_n is last output, out is for all timesteps\n",
        "        out, h_n = self.lstm(x) #GRU network reads in one-hot-encoded SMILES, h_n is last output, out is for all timesteps\n",
        "        out = self.dropout(h_n) #Dropout\n",
        "        out = self.fc1(out) # Pass into the hidden layer\n",
        "        out = self.activation(out) # Use ReLU on hidden activation\n",
        "        out = self.fc2(out) # Pass into the hidden layer\n",
        "        out = self.activation2(out) # Use ReLU on hidden activation\n",
        "        out = self.dropout(out) # dropout\n",
        "        out = self.fc_out(out) # Use a linear layer for the output\n",
        "        return out"
      ]
    },
    {
      "cell_type": "markdown",
      "metadata": {
        "id": "E7apd0MVNE-0"
      },
      "source": [
        "epochs = 400\n",
        "dims = smivec.dims\n",
        "lstm_size = 32  # The size of the LSTM layer\n",
        "hidden_size = 32  # The size of the hidden non-linear layer\n",
        "dropout_rate = 0.4 # The dropout rate\n",
        "output_size = 1        # This is just a single task, so this will be one\n",
        "batch_size = 64   # The mini_batch size during training\n",
        "learning_rate = 0.005  # The initial learning rate for the optimizer"
      ]
    },
    {
      "cell_type": "code",
      "execution_count": 58,
      "metadata": {
        "id": "17wz1N3Nsr0V"
      },
      "outputs": [],
      "source": [
        "epochs = 100\n",
        "dims = smivec.dims\n",
        "lstm_size = 32  # The size of the LSTM layer\n",
        "hidden_size = 32  # The size of the hidden non-linear layer\n",
        "dropout_rate = 0.3 # The dropout rate\n",
        "output_size = 1        # This is just a single task, so this will be one\n",
        "batch_size = 64   # The mini_batch size during training\n",
        "learning_rate = 0.01  # The initial learning rate for the optimizer"
      ]
    },
    {
      "cell_type": "code",
      "execution_count": 59,
      "metadata": {
        "colab": {
          "base_uri": "https://localhost:8080/"
        },
        "id": "QEBFxTQusui1",
        "outputId": "a1e6fbc9-c753-45eb-a40f-ba40ec06ac3b"
      },
      "outputs": [
        {
          "name": "stderr",
          "output_type": "stream",
          "text": [
            "c:\\Users\\po6wi\\AppData\\Local\\Programs\\Python\\Python311\\Lib\\site-packages\\torch\\nn\\modules\\rnn.py:82: UserWarning: dropout option adds dropout after all but last recurrent layer, so non-zero dropout expects num_layers greater than 1, but got dropout=0.2 and num_layers=1\n",
            "  warnings.warn(\"dropout option adds dropout after all but last \"\n"
          ]
        },
        {
          "data": {
            "text/plain": [
              "Net(\n",
              "  (lstm): GRU(37, 32, batch_first=True, dropout=0.2)\n",
              "  (fc1): Linear(in_features=32, out_features=32, bias=True)\n",
              "  (activation): ReLU()\n",
              "  (fc2): Linear(in_features=32, out_features=16, bias=True)\n",
              "  (activation2): ReLU()\n",
              "  (fc_out): Linear(in_features=16, out_features=1, bias=True)\n",
              "  (dropout): Dropout(p=0.3, inplace=False)\n",
              ")"
            ]
          },
          "execution_count": 59,
          "metadata": {},
          "output_type": "execute_result"
        }
      ],
      "source": [
        "model = Net(smivec, lstm_size, hidden_size, dropout_rate, output_size)\n",
        "model.cuda()"
      ]
    },
    {
      "cell_type": "code",
      "execution_count": 60,
      "metadata": {
        "colab": {
          "base_uri": "https://localhost:8080/"
        },
        "id": "fKvwtQiAtJ5V",
        "outputId": "9ef24d03-b804-46c1-fdf6-261861fc8a35"
      },
      "outputs": [
        {
          "data": {
            "text/plain": [
              "tensor([[[0.2186]]], device='cuda:0', grad_fn=<ViewBackward0>)"
            ]
          },
          "execution_count": 60,
          "metadata": {},
          "output_type": "execute_result"
        }
      ],
      "source": [
        "pred = model.forward(X_validation_t[10:11])\n",
        "pred"
      ]
    },
    {
      "cell_type": "code",
      "execution_count": null,
      "metadata": {
        "id": "RlSGgwkatNjd"
      },
      "outputs": [],
      "source": [
        "criterion = nn.MSELoss()\n",
        "optimizer = torch.optim.Adam(model.parameters(), lr=learning_rate)\n",
        "lr_scheduler = ReduceLROnPlateau(optimizer, mode='min', factor=0.5, patience=50,\n",
        "                  verbose=True, threshold=0.0001, threshold_mode='rel', cooldown=0, min_lr=1e-6, eps=1e-08)\n"
      ]
    },
    {
      "cell_type": "code",
      "execution_count": null,
      "metadata": {
        "id": "eNMB41JDtSQ-"
      },
      "outputs": [],
      "source": [
        "train_loader = torch.utils.data.DataLoader(dataset=train_dataset,\n",
        "                                          batch_size=batch_size,\n",
        "                                          shuffle=True, num_workers=4)"
      ]
    },
    {
      "cell_type": "code",
      "execution_count": null,
      "metadata": {
        "id": "UDMWYULZtVwt"
      },
      "outputs": [],
      "source": [
        "for smiles, labels in train_loader:\n",
        "    print(smiles)\n",
        "    print(labels)\n",
        "    break"
      ]
    },
    {
      "cell_type": "code",
      "execution_count": null,
      "metadata": {
        "colab": {
          "base_uri": "https://localhost:8080/"
        },
        "id": "bVjImoAKtYXV",
        "outputId": "5f341307-a7f9-4496-ebe9-655cfd355774"
      },
      "outputs": [
        {
          "name": "stderr",
          "output_type": "stream",
          "text": [
            "<ipython-input-63-37434c2c50fc>:8: UserWarning: To copy construct from a tensor, it is recommended to use sourceTensor.clone().detach() or sourceTensor.clone().detach().requires_grad_(True), rather than torch.tensor(sourceTensor).\n",
            "  smiles = torch.tensor(smiles, device=device).float()\n",
            "<ipython-input-63-37434c2c50fc>:10: UserWarning: To copy construct from a tensor, it is recommended to use sourceTensor.clone().detach() or sourceTensor.clone().detach().requires_grad_(True), rather than torch.tensor(sourceTensor).\n",
            "  labels = torch.tensor(labels, device=device).float()\n"
          ]
        },
        {
          "name": "stdout",
          "output_type": "stream",
          "text": [
            "Epoch 5, Training loss: 1.01 Validation loss: 0.98\n",
            "Epoch 10, Training loss: 1.04 Validation loss: 0.99\n",
            "Epoch 15, Training loss: 1.00 Validation loss: 0.98\n",
            "Epoch 20, Training loss: 1.02 Validation loss: 0.95\n",
            "Epoch 25, Training loss: 0.93 Validation loss: 0.94\n",
            "Epoch 30, Training loss: 0.96 Validation loss: 0.94\n",
            "Epoch 35, Training loss: 0.95 Validation loss: 0.93\n",
            "Epoch 40, Training loss: 0.92 Validation loss: 0.96\n",
            "Epoch 45, Training loss: 0.96 Validation loss: 0.94\n",
            "Epoch 50, Training loss: 1.01 Validation loss: 0.92\n",
            "Epoch 55, Training loss: 1.06 Validation loss: 0.95\n",
            "Epoch 60, Training loss: 0.96 Validation loss: 0.93\n",
            "Epoch 65, Training loss: 0.96 Validation loss: 0.92\n",
            "Epoch 70, Training loss: 0.95 Validation loss: 0.90\n",
            "Epoch 75, Training loss: 0.91 Validation loss: 0.90\n",
            "Epoch 80, Training loss: 0.86 Validation loss: 0.88\n",
            "Epoch 85, Training loss: 0.93 Validation loss: 0.85\n",
            "Epoch 90, Training loss: 0.93 Validation loss: 0.88\n",
            "Epoch 95, Training loss: 0.86 Validation loss: 0.87\n",
            "Epoch 100, Training loss: 0.83 Validation loss: 0.90\n"
          ]
        }
      ],
      "source": [
        "model.train() #Ensure the network is in \"train\" mode with dropouts active\n",
        "train_losses = []\n",
        "validation_losses = []\n",
        "for e in range(epochs):\n",
        "    running_loss = 0\n",
        "    for smiles, labels in train_loader:\n",
        "        # Push numpy to CUDA tensors\n",
        "        smiles = torch.tensor(smiles, device=device).float()\n",
        "        #print(smiles)\n",
        "        labels = torch.tensor(labels, device=device).float()\n",
        "        labels = torch.nan_to_num(labels, nan = torch.nanmean(labels))\n",
        "        #print(labels)\n",
        "        #break\n",
        "        # Training pass\n",
        "        optimizer.zero_grad() # Initialize the gradients, which will be recorded during the forward pass\n",
        "\n",
        "        output = model(smiles) #Forward pass of the mini-batch\n",
        "        loss = criterion(output, labels) #Computing the loss\n",
        "        loss.backward() # calculate the backward pass\n",
        "        torch.nn.utils.clip_grad_norm_(model.parameters(), 1)\n",
        "        optimizer.step() # Optimize the weights\n",
        "\n",
        "        running_loss += loss.item()\n",
        "    else:\n",
        "\n",
        "\n",
        "        model.eval()\n",
        "        validation_loss = torch.mean(( y_validation_t - model(X_validation_t) )**2).item()\n",
        "        model.train()\n",
        "\n",
        "        lr_scheduler.step(validation_loss)\n",
        "\n",
        "        train_loss = running_loss/len(train_loader)\n",
        "        train_losses.append(train_loss)\n",
        "        validation_losses.append(validation_loss)\n",
        "        if (e+1)%5 == 0:\n",
        "            print(\"Epoch %i, Training loss: %0.2F Validation loss: %0.2F\"%(e + 1, train_loss, validation_loss))\n"
      ]
    },
    {
      "cell_type": "code",
      "execution_count": null,
      "metadata": {
        "colab": {
          "base_uri": "https://localhost:8080/",
          "height": 451
        },
        "id": "SrmRqjZBtcmd",
        "outputId": "7fbc1c4b-50b5-49ee-bbbb-429628adf1fd"
      },
      "outputs": [
        {
          "data": {
            "text/plain": [
              "<matplotlib.legend.Legend at 0x7892403d16f0>"
            ]
          },
          "execution_count": 64,
          "metadata": {},
          "output_type": "execute_result"
        },
        {
          "data": {
            "image/png": "[encoded data removed]",
            "text/plain": [
              "<Figure size 640x480 with 1 Axes>"
            ]
          },
          "metadata": {},
          "output_type": "display_data"
        }
      ],
      "source": [
        "plt.plot(train_losses, label=\"Train\")\n",
        "plt.plot(validation_losses, label=\"Validation\")\n",
        "#plt.yscale('log')\n",
        "plt.legend()"
      ]
    },
    {
      "cell_type": "code",
      "execution_count": null,
      "metadata": {
        "id": "MuZ1UzwethSU"
      },
      "outputs": [],
      "source": [
        "model.eval() #Swith to evaluation mode, where dropout is switched off\n",
        "#y_pred_train = model(X_train_t)\n",
        "y_pred_validation = model(X_validation_t)\n",
        "#y_pred_test = model(X_test)\n"
      ]
    },
    {
      "cell_type": "code",
      "execution_count": null,
      "metadata": {
        "colab": {
          "base_uri": "https://localhost:8080/"
        },
        "id": "wlO_erwEtjrk",
        "outputId": "7a9e51d6-09d6-4e26-df6c-39049cabfb12"
      },
      "outputs": [
        {
          "data": {
            "text/plain": [
              "0.9020845293998718"
            ]
          },
          "execution_count": 66,
          "metadata": {},
          "output_type": "execute_result"
        }
      ],
      "source": [
        "torch.mean(( y_validation_t - y_pred_validation )**2).item()"
      ]
    },
    {
      "cell_type": "code",
      "execution_count": null,
      "metadata": {
        "id": "Y3j_Z1FEtpPV"
      },
      "outputs": [],
      "source": [
        "X_train_t = smivec.transform(X_train, canonical=False)\n",
        "X_train_t = torch.tensor(X_train_t, device=device).float()\n",
        "y_train_t = torch.tensor(y_train, device=device).float()\n",
        "y_train_t = torch.nan_to_num(y_train_t, nan = torch.nanmean(y_train_t))\n",
        "X_test_t = smivec.transform(X_test, canonical=False)\n",
        "X_test_t = torch.tensor(X_test_t, device=device).float()\n",
        "y_test_t = torch.tensor(y_test, device=device).float()\n",
        "y_test_t = torch.nan_to_num(y_test_t, nan = torch.nanmean(y_test_t))"
      ]
    },
    {
      "cell_type": "code",
      "execution_count": null,
      "metadata": {
        "colab": {
          "base_uri": "https://localhost:8080/"
        },
        "id": "YEJi3ILotq-j",
        "outputId": "d253985e-e39f-4d55-ae44-998139d87a9c"
      },
      "outputs": [
        {
          "name": "stdout",
          "output_type": "stream",
          "text": [
            "Train RMSE: 0.826\tTest RMSE: 0.765\n"
          ]
        }
      ],
      "source": [
        "y_pred_train = model(X_train_t)\n",
        "y_pred_test = model(X_test_t)\n",
        "train_rmse = torch.mean(( y_train_t - y_pred_train )**2).item()\n",
        "test_rmse = torch.mean(( y_test_t - y_pred_test )**2).item()\n",
        "print(\"Train RMSE: %0.3F\\tTest RMSE: %0.3F\"%(train_rmse, test_rmse))"
      ]
    },
    {
      "cell_type": "code",
      "execution_count": null,
      "metadata": {
        "colab": {
          "base_uri": "https://localhost:8080/"
        },
        "id": "lIHLO0ELBaPD",
        "outputId": "c87ee839-f128-4c7f-f45d-b4e1530444f7"
      },
      "outputs": [
        {
          "data": {
            "text/plain": [
              "torch.Size([1, 684, 1])"
            ]
          },
          "execution_count": 81,
          "metadata": {},
          "output_type": "execute_result"
        }
      ],
      "source": [
        "y_pred_train.shape"
      ]
    },
    {
      "cell_type": "code",
      "execution_count": null,
      "metadata": {
        "colab": {
          "base_uri": "https://localhost:8080/",
          "height": 447
        },
        "id": "ojYZfUFQttag",
        "outputId": "08e6c42a-7f43-45fa-9113-fc600267a704"
      },
      "outputs": [
        {
          "data": {
            "text/plain": [
              "[<matplotlib.lines.Line2D at 0x78924027afe0>]"
            ]
          },
          "execution_count": 69,
          "metadata": {},
          "output_type": "execute_result"
        },
        {
          "data": {
            "image/png": "[encoded data removed]",
            "text/plain": [
              "<Figure size 640x480 with 1 Axes>"
            ]
          },
          "metadata": {},
          "output_type": "display_data"
        }
      ],
      "source": [
        "plt.scatter(np.array(y_pred_train.tolist()).flatten(), np.array(y_train_t.tolist()).flatten(), alpha=0.1)\n",
        "plt.scatter(np.array(y_pred_validation.tolist()).flatten(), np.array(y_validation_t.tolist()).flatten(), alpha=0.5)\n",
        "plt.plot([-0.2, 0.2], [-1.5,1.5], c=\"b\")\n",
        "#plt.xlim(-1,  1)\n",
        "#plt.ylim(-0.1,  1)"
      ]
    }
  ],
  "metadata": {
    "accelerator": "GPU",
    "colab": {
      "provenance": []
    },
    "kernelspec": {
      "display_name": "Python 3",
      "name": "python3"
    },
    "language_info": {
      "codemirror_mode": {
        "name": "ipython",
        "version": 3
      },
      "file_extension": ".py",
      "mimetype": "text/x-python",
      "name": "python",
      "nbconvert_exporter": "python",
      "pygments_lexer": "ipython3",
      "version": "3.11.5"
    }
  },
  "nbformat": 4,
  "nbformat_minor": 0
}
